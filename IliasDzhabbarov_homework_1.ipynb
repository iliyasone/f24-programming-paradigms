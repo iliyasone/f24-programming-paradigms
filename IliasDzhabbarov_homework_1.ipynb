{
 "cells": [
  {
   "cell_type": "markdown",
   "metadata": {},
   "source": [
    "# Homework 1. Programming in Racket\n",
    "\n",
    "**Ilias Dzhabbarov**\n",
    "\n",
    "### 1.1 Pseudo-Random Generation\n"
   ]
  },
  {
   "cell_type": "code",
   "execution_count": 46,
   "metadata": {
    "vscode": {
     "languageId": "racket"
    }
   },
   "outputs": [
    {
     "name": "stdout",
     "output_type": "stream",
     "text": [
      "Exercise 1.1.1\n",
      "#<gen>\n",
      "#<gen>\n",
      "Exercise 1.1.2\n",
      "'(13 . #<gen>)\n",
      "'(13 . #<gen>)\n",
      "'(32 . #<gen>)\n",
      "'(32 . #<gen>)\n"
     ]
    }
   ],
   "source": [
    "(require racket)\n",
    "\n",
    "(define a 1664525)\n",
    "(define c 1013904223)\n",
    "(define m (expt 2 32))\n",
    "\n",
    "(struct gen (state))\n",
    "\n",
    "(displayln \"Exercise 1.1.1\")\n",
    "\n",
    "(define (mk-gen seed)\n",
    "  (gen seed))\n",
    "\n",
    "(define (next-gen g)\n",
    "    (gen (remainder (+ c (* a (gen-state g))) m))\n",
    ")\n",
    "\n",
    "(println (mk-gen 123)) \n",
    "; #<gen>\n",
    "\n",
    "(println (next-gen (mk-gen 123)))\n",
    "; #<gen> \n",
    "\n",
    "(displayln \"Exercise 1.1.2\")\n",
    "\n",
    "(define ((gen-integer i j) g)\n",
    "    (cons \n",
    "        (+ i (remainder (gen-state g) (- j i)))\n",
    "        (next-gen g)\n",
    "    )\n",
    ")\n",
    "\n",
    "(println ((gen-integer 10 34) (mk-gen 123)))\n",
    "; '(13 . #<gen>)\n",
    "(println ((gen-integer 10 34) (mk-gen 123)))\n",
    "; '(13 . #<gen>)    the same as above\n",
    "\n",
    "(println ((gen-integer 10 34) \n",
    "            (next-gen (mk-gen 123))\n",
    "           )\n",
    ")\n",
    "; '(32 . #<gen>)\n",
    "(println ((gen-integer 10 34) \n",
    "            (cdr ((gen-integer 10 34) (mk-gen 123)))\n",
    "            )\n",
    ")\n",
    "; '(32 . #<gen>)    the same as above\n",
    "\n"
   ]
  },
  {
   "cell_type": "markdown",
   "metadata": {},
   "source": [
    "### Exercise 1.1.3\n",
    "*previous cell required*"
   ]
  },
  {
   "cell_type": "code",
   "execution_count": 47,
   "metadata": {
    "vscode": {
     "languageId": "racket"
    }
   },
   "outputs": [
    {
     "name": "stdout",
     "output_type": "stream",
     "text": [
      "Exercise 1.1.3\n",
      "'(7 2 7 7 4)\n",
      "'(7 2 7 7 4 1 8 4 9 6)\n",
      "Exercise 1.1.4\n",
      "'(7 2 7 7 4)\n",
      "'(7 2 7 7 4 1 8 4 9 6)\n"
     ]
    }
   ],
   "source": [
    "(displayln \"Exercise 1.1.3\")\n",
    "(require racket/stream)\n",
    "\n",
    "(define (stream-integers n m g)\n",
    "    (stream-cons \n",
    "    (car ((gen-integer n m) g))\n",
    "    (stream-integers n m (next-gen g))\n",
    "    )\n",
    ")\n",
    "\n",
    "(println (stream->list (stream-take (stream-integers 1 10 (mk-gen 123)) 5)))\n",
    "; (7 2 7 7 4)\n",
    "(println (stream->list (stream-take (stream-integers 1 10 (mk-gen 123)) 10)))\n",
    "; (7 2 7 7 4 1 8 4 9 6)     the first 5 integers the same as above\n",
    "\n",
    "\n",
    "(displayln \"Exercise 1.1.4\")\n",
    "\n",
    "(define (stream-random f g)\n",
    "    (stream-cons \n",
    "    (car (f g))\n",
    "    (stream-random f (cdr (f g))) ; not (next-gen g) because f could use generator more than once \n",
    "    )\n",
    ")\n",
    "\n",
    "(println (stream->list (stream-take (stream-random (gen-integer 1 10) (mk-gen 123)) 5)))\n",
    "; (7 2 7 7 4)\n",
    "(println (stream->list (stream-take (stream-random (gen-integer 1 10) (mk-gen 123)) 10)))\n",
    ";(7 2 7 7 4 1 8 4 9 6)"
   ]
  },
  {
   "cell_type": "markdown",
   "metadata": {},
   "source": [
    "### 1.2 Generating User-Defined Structures\n",
    "*all previous cells are required*"
   ]
  },
  {
   "cell_type": "code",
   "execution_count": 48,
   "metadata": {
    "vscode": {
     "languageId": "racket"
    }
   },
   "outputs": [
    {
     "name": "stdout",
     "output_type": "stream",
     "text": [
      "Exercise 1.2.1\n",
      "'(#f #t #f #t #f)\n",
      "Exercise 1.2.2\n",
      "'(2 1 3 1 1)\n"
     ]
    }
   ],
   "source": [
    "(displayln \"Exercise 1.2.1\")\n",
    "(define (gen-bool g)\n",
    "    (cons \n",
    "        (zero? (remainder (gen-state g) 2))\n",
    "        (next-gen g)\n",
    "    )\n",
    ")\n",
    "\n",
    "(println (stream->list (stream-take (stream-random gen-bool (mk-gen 13123)) 5)))\n",
    "; '(#f #t #f #t #f)\n",
    "\n",
    "(displayln \"Exercise 1.2.2\")\n",
    "\n",
    "(define ((gen-element lst) g)\n",
    "    (cons\n",
    "        (list-ref lst\n",
    "            (car ((gen-integer 0 (length lst)) g))\n",
    "        )\n",
    "        (next-gen g)\n",
    "    )\n",
    ")\n",
    "\n",
    "(println (stream->list (stream-take (stream-random (gen-element '(1 2 3)) (mk-gen 13)) 5)))\n",
    "; '(2 1 3 1 1)"
   ]
  },
  {
   "cell_type": "code",
   "execution_count": 49,
   "metadata": {
    "vscode": {
     "languageId": "racket"
    }
   },
   "outputs": [
    {
     "name": "stdout",
     "output_type": "stream",
     "text": [
      "Exercise 1.2.3\n",
      "'((#f . #t) (#f . #t) (#f . #t))\n"
     ]
    },
    {
     "data": {
      "text/html": [
       "<code>'((9 . 3) (1 . 5) (8 . 8))</code>"
      ],
      "text/plain": [
       "'((9 . 3) (1 . 5) (8 . 8))"
      ]
     },
     "execution_count": 49,
     "metadata": {},
     "output_type": "execute_result"
    }
   ],
   "source": [
    "; *all previous cells are required*\n",
    "\n",
    "(displayln \"Exercise 1.2.3\")\n",
    "\n",
    "(define ((gen-pair f1 f2) g)\n",
    "    (cons \n",
    "        (cons \n",
    "            (car (f1 g))\n",
    "            (car (f2 (cdr (f1 g))))\n",
    "        )\n",
    "        (cdr (f2 (cdr (f1 g))))\n",
    "    )\n",
    ")\n",
    "\n",
    "(println (stream->list (stream-take (stream-random (gen-pair gen-bool gen-bool) (mk-gen 31337)) 3)))\n",
    "; '((#f . #t) (#f . #t) (#f . #t))\n",
    "\n",
    "(stream->list (stream-take (stream-random (gen-pair (gen-integer 1 10) (gen-integer 1 10)) (mk-gen 31337)) 3))\n",
    "; '((9 . 3) (1 . 5) (8 . 8))"
   ]
  },
  {
   "cell_type": "code",
   "execution_count": 50,
   "metadata": {
    "vscode": {
     "languageId": "racket"
    }
   },
   "outputs": [
    {
     "name": "stdout",
     "output_type": "stream",
     "text": [
      "Exercise 1.2.4\n",
      "'((7 2 7 7 4 1 8 4 9 6) . #<gen>)\n"
     ]
    },
    {
     "data": {
      "text/html": [
       "<code>'(7 2 7 7 4 1 8 4 9 6)</code>"
      ],
      "text/plain": [
       "'(7 2 7 7 4 1 8 4 9 6)"
      ]
     },
     "execution_count": 50,
     "metadata": {},
     "output_type": "execute_result"
    }
   ],
   "source": [
    "(displayln \"Exercise 1.2.4\")\n",
    "\n",
    "\n",
    "(define (stream-random-full f g)\n",
    "    (stream-cons \n",
    "    (cons (car (f g)) (cdr (f g)))\n",
    "    (stream-random-full f (cdr (f g))) \n",
    "    ;                     ^^^^^^^^^^^ \n",
    "    ; not (next-gen g) because `f` could use\n",
    "    ; generator more than once \n",
    "    )\n",
    ")\n",
    "\n",
    "(define ((gen-list f n) g)\n",
    "    (let \n",
    "        ([lst (stream->list (stream-take (stream-random-full f g) n))])\n",
    "        \n",
    "    (cons\n",
    "        (for/list ([pair lst])\n",
    "            (car pair)\n",
    "        )\n",
    "        (cdr (list-ref lst (- n 1)))\n",
    "    )\n",
    "    )\n",
    ")\n",
    "; '(7 2 7 7 4 1 8 4 9 6)\n",
    "\n",
    "\n",
    "(println ((gen-list (gen-integer 1 10) 10) (mk-gen 123)))\n",
    "\n",
    "(stream->list (stream-take (stream-random (gen-integer 1 10) (mk-gen 123)) 10))\n",
    "\n"
   ]
  },
  {
   "cell_type": "code",
   "execution_count": 51,
   "metadata": {
    "vscode": {
     "languageId": "racket"
    }
   },
   "outputs": [
    {
     "name": "stdout",
     "output_type": "stream",
     "text": [
      "Exercise 1.2.5\n",
      "'(() . #<gen>)\n",
      "'((7) . #<gen>)\n",
      "'((7 18) . #<gen>)\n"
     ]
    }
   ],
   "source": [
    "(displayln \"Exercise 1.2.5\")\n",
    "\n",
    "(define ((gen* . fs) g)\n",
    "    (let-values (\n",
    "        [\n",
    "            (result final-g)\n",
    "            (for/fold ([result empty]\n",
    "                    [g g])  ; local vars\n",
    "                    ([f fs])\n",
    "            (values \n",
    "            (append result (list (car (f g))))\n",
    "            (cdr (f g))))\n",
    "        ]\n",
    "    )\n",
    "    (cons result final-g))\n",
    ")\n",
    "\n",
    "\n",
    "\n",
    "\n",
    "(println ((gen*) (mk-gen 123)))\n",
    "; '(() . #<gen>)\n",
    "\n",
    "(println ((gen* (gen-integer 1 10)) (mk-gen 123)))\n",
    "; '((7) . #<gen>)\n",
    "\n",
    "(println ((gen* (gen-integer 1 10) (gen-integer 10 20)) (mk-gen 123)))\n",
    "; '((7 18) . #<gen>)\n"
   ]
  },
  {
   "cell_type": "code",
   "execution_count": 52,
   "metadata": {
    "vscode": {
     "languageId": "racket"
    }
   },
   "outputs": [
    {
     "name": "stdout",
     "output_type": "stream",
     "text": [
      "Exercise 1.2.6\n",
      "Anna\n",
      "28\n",
      "#<gen>\n"
     ]
    }
   ],
   "source": [
    "(displayln \"Exercise 1.2.6\")\n",
    "\n",
    "(define ((gen-struct user-struct . fs) g)\n",
    "    (cons\n",
    "        (apply user-struct (car ((apply gen* fs) g)))\n",
    "        (cdr ((apply gen* fs) g))\n",
    "    )\n",
    ")\n",
    "\n",
    "(struct person (name age))\n",
    "(let [(p ((gen-struct person\n",
    "(gen-element '(Anna Boris Charlie))\n",
    "(gen-integer 20 30))\n",
    "(mk-gen 123)))]\n",
    "(displayln (person-name (car p)))\n",
    "(displayln (person-age (car p)))\n",
    "(displayln (cdr p)))\n"
   ]
  },
  {
   "cell_type": "code",
   "execution_count": 53,
   "metadata": {
    "vscode": {
     "languageId": "racket"
    }
   },
   "outputs": [
    {
     "name": "stdout",
     "output_type": "stream",
     "text": [
      "Exercise 1.2.7\n"
     ]
    },
    {
     "data": {
      "text/html": [
       "<code>'(23 17 43 45 5 49 49 9 19 47)</code>"
      ],
      "text/plain": [
       "'(23 17 43 45 5 49 49 9 19 47)"
      ]
     },
     "execution_count": 53,
     "metadata": {},
     "output_type": "execute_result"
    }
   ],
   "source": [
    "(displayln \"Exercise 1.2.7\")\n",
    "\n",
    "(define (gen-int->int g)\n",
    "    (cons\n",
    "\n",
    "        (lambda (n)\n",
    "            (+ \n",
    "                (* n \n",
    "                    (car ((gen-integer 0 10) g))\n",
    "                ) \n",
    "                (car ((gen-integer 0 10) (next-gen g)))\n",
    "            )\n",
    "        )\n",
    "        (next-gen (next-gen g))\n",
    "    )\n",
    ")\n",
    "(map (lambda (f) (f 5))\n",
    "(stream->list (stream-take (stream-random gen-int->int (mk-gen 4)) 10)))\n"
   ]
  },
  {
   "cell_type": "markdown",
   "metadata": {},
   "source": [
    "### 1.3 Checking User-Defined Properties\n"
   ]
  },
  {
   "cell_type": "code",
   "execution_count": 54,
   "metadata": {
    "vscode": {
     "languageId": "racket"
    }
   },
   "outputs": [
    {
     "name": "stdout",
     "output_type": "stream",
     "text": [
      "Exercise 1.3.1\n"
     ]
    },
    {
     "name": "stderr",
     "output_type": "stream",
     "text": [
      "stream⇒list: undefined;\n",
      " cannot reference an identifier before its definition\n",
      "  in module: top-level\n",
      "  context...:\n",
      "   body of top-level\n",
      "   C:\\Program Files\\Racket\\share\\pkgs\\sandbox-lib\\racket\\sandbox.rkt:710:9: loop\n"
     ]
    }
   ],
   "source": [
    "(struct property (generator predicate))\n",
    "\n",
    "(displayln \"Exercise 1.3.1\")\n",
    "\n",
    "\n",
    "(define (stream-counterexamples-helper property g n)\n",
    "    (cond \n",
    "        [(= n 0) empty-stream]\n",
    "        [\n",
    "            (not \n",
    "                ((property-predicate property) \n",
    "                 (car ((property-generator property) g)))\n",
    "            )\n",
    "            (stream-cons\n",
    "                (car ((property-generator property) g))\n",
    "                (stream-counterexamples-helper property (next-gen g) (- n 1))\n",
    "            )\n",
    "        ]\n",
    "        [else \n",
    "            (stream-counterexamples-helper property (next-gen g) (- n 1))\n",
    "        ]\n",
    "    )\n",
    ")\n",
    "\n",
    "(define (stream-counterexamples property g)\n",
    "    (stream-counterexamples-helper property g 100)\n",
    ")\n",
    "\n",
    "\n",
    "\n",
    "\n",
    "(println (stream⇒list \n",
    "    (stream-counterexamples (property (gen-integer 1 100) (lambda (x) (> x 5)))\n",
    "(mk-gen 123))))\n",
    "; '(2 1 4 3)\n",
    "\n",
    "\n",
    "(println (stream->list (stream-counterexamples\n",
    "(property (gen-integer 1 100)\n",
    "(lambda (x) (> x 0)))\n",
    "(mk-gen 123))))\n",
    "; '()"
   ]
  },
  {
   "cell_type": "code",
   "execution_count": 55,
   "metadata": {
    "vscode": {
     "languageId": "racket"
    }
   },
   "outputs": [
    {
     "name": "stdout",
     "output_type": "stream",
     "text": [
      "Exercise 1.3.2\n",
      "'(2)\n",
      "'()\n"
     ]
    }
   ],
   "source": [
    "(displayln \"Exercise 1.3.2\")\n",
    "\n",
    "(define (stream-counterexample property g)\n",
    "    (let \n",
    "        ([lst (stream->list (stream-counterexamples-helper property g 100))])\n",
    "    (cond \n",
    "        [(empty? lst) empty-stream]\n",
    "        [else (stream-cons (first lst) empty-stream)]\n",
    "    )\n",
    "    )\n",
    ")\n",
    "\n",
    "(println (stream->list \n",
    "    (stream-counterexample (property (gen-integer 1 100) (lambda (x) (> x 5)))\n",
    "(mk-gen 123))))\n",
    "; '(2 1 4 3)\n",
    "\n",
    "\n",
    "(println (stream->list (stream-counterexample\n",
    "(property (gen-integer 1 100)\n",
    "(lambda (x) (> x 0)))\n",
    "(mk-gen 123))))\n",
    "; '()\n"
   ]
  },
  {
   "cell_type": "code",
   "execution_count": 56,
   "metadata": {
    "vscode": {
     "languageId": "racket"
    }
   },
   "outputs": [
    {
     "name": "stdout",
     "output_type": "stream",
     "text": [
      "Exercise 1.3.3\n"
     ]
    }
   ],
   "source": [
    "(displayln \"Exercise 1.3.3\")\n",
    "\n",
    "(define (check property) \n",
    "    (let ([lst (stream->list (stream-counterexample property (mk-gen (current-seconds))))])\n",
    "     (if (empty? lst)\n",
    "         (displayln \"Success\")\n",
    "         (values\n",
    "            (display \"Falsified!\\nCounterexample: \" )\n",
    "            (display (first lst))\n",
    "         \n",
    "         )\n",
    "     )\n",
    "    )\n",
    ")"
   ]
  },
  {
   "cell_type": "code",
   "execution_count": 57,
   "metadata": {
    "vscode": {
     "languageId": "racket"
    }
   },
   "outputs": [
    {
     "name": "stdout",
     "output_type": "stream",
     "text": [
      "Success\n"
     ]
    }
   ],
   "source": [
    "(check (property (gen-integer 1 10) (lambda (n) (< n 11))))\n"
   ]
  },
  {
   "cell_type": "code",
   "execution_count": 58,
   "metadata": {
    "vscode": {
     "languageId": "racket"
    }
   },
   "outputs": [
    {
     "name": "stdout",
     "output_type": "stream",
     "text": [
      "Falsified!\n",
      "Counterexample: 6"
     ]
    }
   ],
   "source": [
    "(check (property (gen-integer 1 10) (lambda (n) (< n 5))))\n",
    "; Falsified!\n",
    "; Counterexample: 5\n"
   ]
  },
  {
   "cell_type": "code",
   "execution_count": 59,
   "metadata": {
    "vscode": {
     "languageId": "racket"
    }
   },
   "outputs": [
    {
     "name": "stdout",
     "output_type": "stream",
     "text": [
      "Success\n"
     ]
    }
   ],
   "source": [
    "(check (property\n",
    "(gen-pair (gen-integer 1 10) (gen-integer 11 20))\n",
    "(lambda (xy)\n",
    "(let [(x (car xy))\n",
    "(y (cdr xy))]\n",
    "(< x y (+ x y))))))\n",
    "; Success"
   ]
  },
  {
   "cell_type": "code",
   "execution_count": 60,
   "metadata": {
    "vscode": {
     "languageId": "racket"
    }
   },
   "outputs": [
    {
     "name": "stdout",
     "output_type": "stream",
     "text": [
      "Falsified!\n",
      "Counterexample: (7 . 14)"
     ]
    }
   ],
   "source": [
    "(check (property\n",
    "(gen-pair (gen-integer 1 10) (gen-integer 11 20))\n",
    "(lambda (xy)\n",
    "(let [(x (car xy))\n",
    "(y (cdr xy))]\n",
    "(< x (- y x))))))\n",
    "; Falsified!\n",
    "; Counterexample: (8 . 15)"
   ]
  },
  {
   "cell_type": "markdown",
   "metadata": {},
   "source": [
    "### 1.4 Implementing Properties\n"
   ]
  },
  {
   "cell_type": "code",
   "execution_count": 61,
   "metadata": {
    "vscode": {
     "languageId": "racket"
    }
   },
   "outputs": [
    {
     "name": "stdout",
     "output_type": "stream",
     "text": [
      "Exercise 1.4.1\n",
      "'((-7 . 8) (-9 . -2) (-3 . 8) (3 . 2) (-3 . 8))\n"
     ]
    }
   ],
   "source": [
    "(displayln \"Exercise 1.4.1\")\n",
    "\n",
    "(define (gen-2D-point g)\n",
    "    (cons \n",
    "        (cons (car ((gen-integer -10 10) g)) (car ((gen-integer -10 10) (next-gen g))))\n",
    "        (next-gen (next-gen g))\n",
    "    )\n",
    ")\n",
    "\n",
    "(println (stream->list (stream-take (stream-random gen-2D-point (mk-gen 123)) 5)))\n",
    "; '((-7 . 8) (-9 . -2) (-3 . 8) (3 . 2) (-3 . 8))"
   ]
  },
  {
   "cell_type": "code",
   "execution_count": 62,
   "metadata": {
    "vscode": {
     "languageId": "racket"
    }
   },
   "outputs": [
    {
     "name": "stdout",
     "output_type": "stream",
     "text": [
      "Exercise 1.4.2\n"
     ]
    },
    {
     "data": {
      "text/html": [
       "<code>5</code>"
      ],
      "text/plain": [
       "5"
      ]
     },
     "execution_count": 62,
     "metadata": {},
     "output_type": "execute_result"
    }
   ],
   "source": [
    "(displayln \"Exercise 1.4.2\")\n",
    "\n",
    "(define (euclidean-distance-2D point1 point2)\n",
    "    (let ([x1 (car point1)]\n",
    "          [y1 (cdr point1)]\n",
    "          [x2 (car point2)]\n",
    "          [y2 (cdr point2)])\n",
    "    (sqrt (+ (sqr (- x1 x2)) (sqr (- y1 y2)))))\n",
    ") \n",
    "\n",
    "(euclidean-distance-2D '(3 . 4) '(0 . 0))\n",
    "; 5"
   ]
  },
  {
   "cell_type": "code",
   "execution_count": 63,
   "metadata": {
    "vscode": {
     "languageId": "racket"
    }
   },
   "outputs": [
    {
     "name": "stdout",
     "output_type": "stream",
     "text": [
      "Exercise 1.4.3\n"
     ]
    }
   ],
   "source": [
    "(displayln \"Exercise 1.4.3\")\n",
    "(define epsln 1e-5) ; accounting for error\n",
    "\n",
    "(define (triangular gen mu)\n",
    "    (property\n",
    "        (gen-list gen 3)           ; generator\n",
    "        (lambda (pts)              ; predicate\n",
    "            (let ([p1 (car pts)]          \n",
    "                  [p2 (cadr pts)]         \n",
    "                  [p3 (caddr pts)])       \n",
    "            (>= (+ (mu p1 p2) (mu p2 p3)) (- (mu p1 p3) epsln) )\n",
    "            )\n",
    "        )\n",
    "    ) \n",
    ")"
   ]
  },
  {
   "cell_type": "code",
   "execution_count": 64,
   "metadata": {
    "vscode": {
     "languageId": "racket"
    }
   },
   "outputs": [
    {
     "name": "stdout",
     "output_type": "stream",
     "text": [
      "Success\n"
     ]
    }
   ],
   "source": [
    "(check (triangular gen-2D-point euclidean-distance-2D))\n",
    "; Success"
   ]
  },
  {
   "cell_type": "code",
   "execution_count": 65,
   "metadata": {
    "vscode": {
     "languageId": "racket"
    }
   },
   "outputs": [
    {
     "name": "stdout",
     "output_type": "stream",
     "text": [
      "Falsified!\n",
      "Counterexample: ((1 . 8) (-5 . -10) (1 . -8))"
     ]
    }
   ],
   "source": [
    "(define (bad-distance-2D p1 p2)\n",
    "    (let [(x1 (car p1))\n",
    "        (x2 (car p2))\n",
    "        (y1 (cdr p1))\n",
    "        (y2 (cdr p2))]\n",
    "        \n",
    "    (+ x1 x2 y1 y2)))\n",
    "\n",
    "\n",
    "(check (triangular gen-2D-point bad-distance-2D))\n",
    "; Falsified!\n",
    "; Counterexample: ((4 . 7) (-6 . -7) (4 . 3))"
   ]
  },
  {
   "cell_type": "code",
   "execution_count": 66,
   "metadata": {
    "vscode": {
     "languageId": "racket"
    }
   },
   "outputs": [
    {
     "name": "stdout",
     "output_type": "stream",
     "text": [
      "Exercise 1.4.4\n"
     ]
    }
   ],
   "source": [
    "(displayln \"Exercise 1.4.4\")\n",
    "\n",
    "(define (functor-law-1 map)\n",
    "    (property\n",
    "        (gen-list (gen-integer 1 10) (car ((gen-integer 10 100) (mk-gen (current-seconds)))))      ; generator\n",
    "        (lambda (lst) (equal? (map identity lst) lst)) ; predicate\n",
    "    )\n",
    ")"
   ]
  },
  {
   "cell_type": "code",
   "execution_count": 67,
   "metadata": {
    "vscode": {
     "languageId": "racket"
    }
   },
   "outputs": [
    {
     "name": "stdout",
     "output_type": "stream",
     "text": [
      "Success\n"
     ]
    }
   ],
   "source": [
    "(check (functor-law-1 map))\n",
    "; Success"
   ]
  },
  {
   "cell_type": "code",
   "execution_count": 68,
   "metadata": {
    "vscode": {
     "languageId": "racket"
    }
   },
   "outputs": [
    {
     "name": "stdout",
     "output_type": "stream",
     "text": [
      "Falsified!\n",
      "Counterexample: (9 4 7 3 9 4 2 8 2 9 4 5 7 1 4 2 5 5)"
     ]
    }
   ],
   "source": [
    "(define (bad-map f xs) (reverse xs))\n",
    "(check (functor-law-1 bad-map))\n",
    "; Falsified!\n",
    "; Counterexample: (5 2 1 1 9 9 5 1 6 2 8 1 5 7 1 4 9 7 5 4 2 1 3)"
   ]
  },
  {
   "cell_type": "code",
   "execution_count": 69,
   "metadata": {
    "vscode": {
     "languageId": "racket"
    }
   },
   "outputs": [
    {
     "name": "stdout",
     "output_type": "stream",
     "text": [
      "Exercise 1.4.5 (+0.25% extra credit)\n"
     ]
    }
   ],
   "source": [
    "(displayln \"Exercise 1.4.5 (+0.25% extra credit)\")\n",
    "\n",
    "\n",
    "(define (functor-law-2 map)\n",
    "    \n",
    "    (\n",
    "        let* (\n",
    "            [gn (mk-gen (current-seconds))]\n",
    "            [f (car (gen-int->int gn))]\n",
    "            [g (car (gen-int->int (next-gen gn)))]\n",
    "            ) \n",
    "    (property\n",
    "        (gen-list (gen-integer 1 10) (car ((gen-integer 10 100) (next-gen (next-gen gn)))))      ; generator\n",
    "        (lambda (lst) (equal? (map f (map g lst)) (map (lambda (x) (f (g x))) lst))) ; predicate\n",
    "    )\n",
    "    )\n",
    ")"
   ]
  },
  {
   "cell_type": "code",
   "execution_count": 70,
   "metadata": {
    "vscode": {
     "languageId": "racket"
    }
   },
   "outputs": [
    {
     "name": "stdout",
     "output_type": "stream",
     "text": [
      "Success\n"
     ]
    }
   ],
   "source": [
    "(check (functor-law-2 map))\n",
    "; Success"
   ]
  },
  {
   "cell_type": "code",
   "execution_count": 71,
   "metadata": {
    "vscode": {
     "languageId": "racket"
    }
   },
   "outputs": [
    {
     "name": "stdout",
     "output_type": "stream",
     "text": [
      "Falsified!\n",
      "Counterexample: (2 8 3 3 7 5 8 6 7 3 4 9 3 2 6 5 1 5 9 3 5 7 1 7 5 9 1 9 2 9 9 4 3 9 8 6 6 1 6 7 8 5 8 3 2 2 5 9 7 5 8 1 1 9 3 1 2 1 9 2 7 1 2 5 7 9)"
     ]
    }
   ],
   "source": [
    "(check (functor-law-2 bad-map))\n",
    "; Falsified!\n",
    "; Counterexample: (6 7 9 1 5 5 2 6 9 7 3 5 1 7 8 2 4 9 7 4 6 3 5 2 6 6 6 1 6 6 7 2 3 3 1 4)"
   ]
  },
  {
   "cell_type": "code",
   "execution_count": 72,
   "metadata": {
    "vscode": {
     "languageId": "racket"
    }
   },
   "outputs": [
    {
     "name": "stdout",
     "output_type": "stream",
     "text": [
      "Exercise 1.4.6 (+0.25% extra credit)\n"
     ]
    }
   ],
   "source": [
    "(displayln \"Exercise 1.4.6 (+0.25% extra credit)\")\n",
    "\n",
    "(define (f->predicate f)\n",
    "  (lambda (x)\n",
    "    (positive? (f x)))\n",
    ")\n",
    "\n",
    "\n",
    "(define (filter-shortens-list filter)\n",
    "    (\n",
    "    let* (\n",
    "        [gn (mk-gen (current-seconds))]\n",
    "        ) \n",
    "    (property\n",
    "        (gen-pair \n",
    "            (gen-list \n",
    "                (gen-integer 1 10) (car ((gen-integer 10 100) gn))\n",
    "            ) ; list\n",
    "            gen-int->int ; predicate\n",
    "        )  ; property-generator\n",
    "        (lambda (lst) \n",
    "            (\n",
    "            let (\n",
    "                [xs (car lst)]\n",
    "                [p (f->predicate (cdr lst))]\n",
    "                )\n",
    "            (<= (length (filter p xs)) (length xs))\n",
    "            )\n",
    "        ) ; property-predicate\n",
    "    )\n",
    "    )\n",
    ")"
   ]
  },
  {
   "cell_type": "code",
   "execution_count": 73,
   "metadata": {
    "vscode": {
     "languageId": "racket"
    }
   },
   "outputs": [
    {
     "name": "stdout",
     "output_type": "stream",
     "text": [
      "Success\n"
     ]
    }
   ],
   "source": [
    "(check (filter-shortens-list filter))\n",
    "; Success"
   ]
  },
  {
   "cell_type": "code",
   "execution_count": 74,
   "metadata": {
    "vscode": {
     "languageId": "racket"
    }
   },
   "outputs": [
    {
     "name": "stdout",
     "output_type": "stream",
     "text": [
      "Falsified!\n",
      "Counterexample: ((7 9 7 6 2 1 8 3 1 4 4 3 5 9 1 4 2 1 1 2 8 5 3 5 4) . #<procedure>)"
     ]
    }
   ],
   "source": [
    "(define (bad-filter p lst)\n",
    "(append (filter p lst) (filter p lst)))\n",
    "(check (filter-shortens-list bad-filter))\n",
    "; Falsified!\n",
    "; Counterexample: ((9 9 6 4 5 6 5 9 6 4 7 2 7 1 1 7 5 3 5 4 3 7 7 9 8 1 4 2 1 8 7 6 9 5 6 7 3 1 7 8 2 4 8 3 7 2 7 6 3 9 4 8 3 2 8 9 5 5 8 5 3 3 6 9 2 9 9 7 6 8 5 6 4 3 4 3 4 7 6 5 4) . #<procedure>)\n"
   ]
  },
  {
   "cell_type": "markdown",
   "metadata": {},
   "source": [
    "### 1.5 Proving Properties\n",
    "\n",
    "#### Exercise 1.5.1 (5 points).\n",
    "\n",
    "Prove the first functor law for `map` and lists. Specifically, provide a correct definition of `map` and show that for any list `lst`, you have\n",
    "\n",
    "```(map identity lst) = ... = lst```\n",
    "\n"
   ]
  },
  {
   "cell_type": "code",
   "execution_count": 75,
   "metadata": {
    "vscode": {
     "languageId": "racket"
    }
   },
   "outputs": [],
   "source": [
    "(define (map f lst)\n",
    "(\n",
    "  if (null? lst)\n",
    "    '()\n",
    "    (cons \n",
    "      (f (car lst)) \n",
    "      (map f (cdr lst))\n",
    "    )\n",
    ")\n",
    ")\n",
    "; note:\n",
    "; after this cell built-in map function\n",
    "; will not be in the scope"
   ]
  },
  {
   "cell_type": "markdown",
   "metadata": {},
   "source": [
    "Let's test my-map `map`"
   ]
  },
  {
   "cell_type": "code",
   "execution_count": 76,
   "metadata": {
    "vscode": {
     "languageId": "racket"
    }
   },
   "outputs": [
    {
     "name": "stdout",
     "output_type": "stream",
     "text": [
      "Success\n"
     ]
    }
   ],
   "source": [
    "(check (functor-law-1 map))"
   ]
  },
  {
   "cell_type": "code",
   "execution_count": 77,
   "metadata": {
    "vscode": {
     "languageId": "racket"
    }
   },
   "outputs": [
    {
     "name": "stdout",
     "output_type": "stream",
     "text": [
      "Success\n"
     ]
    }
   ],
   "source": [
    "(check (functor-law-2 map))"
   ]
  },
  {
   "cell_type": "markdown",
   "metadata": {},
   "source": [
    "Let's use mathematical induction on the structure of the list `lst`.\n",
    "\n",
    "### Base case"
   ]
  },
  {
   "cell_type": "code",
   "execution_count": 78,
   "metadata": {
    "vscode": {
     "languageId": "racket"
    }
   },
   "outputs": [],
   "source": [
    "(define lst '())"
   ]
  },
  {
   "cell_type": "code",
   "execution_count": 79,
   "metadata": {
    "vscode": {
     "languageId": "racket"
    }
   },
   "outputs": [
    {
     "data": {
      "text/html": [
       "<code>'()</code>"
      ],
      "text/plain": [
       "'()"
      ]
     },
     "execution_count": 79,
     "metadata": {},
     "output_type": "execute_result"
    }
   ],
   "source": [
    "(map identity '())"
   ]
  },
  {
   "cell_type": "code",
   "execution_count": 80,
   "metadata": {
    "vscode": {
     "languageId": "racket"
    }
   },
   "outputs": [
    {
     "data": {
      "text/html": [
       "<code>'()</code>"
      ],
      "text/plain": [
       "'()"
      ]
     },
     "execution_count": 80,
     "metadata": {},
     "output_type": "execute_result"
    }
   ],
   "source": [
    "(\n",
    "  if (null? lst)\n",
    "    '()\n",
    "    (cons \n",
    "      (f (car lst)) \n",
    "      (map f (cdr lst))\n",
    "    )\n",
    ")"
   ]
  },
  {
   "cell_type": "code",
   "execution_count": 81,
   "metadata": {
    "vscode": {
     "languageId": "racket"
    }
   },
   "outputs": [
    {
     "data": {
      "text/html": [
       "<code>'()</code>"
      ],
      "text/plain": [
       "'()"
      ]
     },
     "execution_count": 81,
     "metadata": {},
     "output_type": "execute_result"
    }
   ],
   "source": [
    "(\n",
    "  if (null? '())\n",
    "    '()\n",
    "    (cons \n",
    "      (identity (car '())) \n",
    "      (map identity (cdr '()))\n",
    "    )\n",
    ")"
   ]
  },
  {
   "cell_type": "code",
   "execution_count": 82,
   "metadata": {
    "vscode": {
     "languageId": "racket"
    }
   },
   "outputs": [
    {
     "data": {
      "text/html": [
       "<code>'()</code>"
      ],
      "text/plain": [
       "'()"
      ]
     },
     "execution_count": 82,
     "metadata": {},
     "output_type": "execute_result"
    }
   ],
   "source": [
    "(\n",
    "  if #t\n",
    "    '()\n",
    "    (cons \n",
    "      (identity (car '())) \n",
    "      (map identity (cdr '()))\n",
    "    )\n",
    ")"
   ]
  },
  {
   "cell_type": "code",
   "execution_count": 83,
   "metadata": {
    "vscode": {
     "languageId": "racket"
    }
   },
   "outputs": [
    {
     "data": {
      "text/html": [
       "<code>'()</code>"
      ],
      "text/plain": [
       "'()"
      ]
     },
     "execution_count": 83,
     "metadata": {},
     "output_type": "execute_result"
    }
   ],
   "source": [
    "'()"
   ]
  },
  {
   "cell_type": "code",
   "execution_count": 84,
   "metadata": {
    "vscode": {
     "languageId": "racket"
    }
   },
   "outputs": [
    {
     "data": {
      "text/html": [
       "<code>'()</code>"
      ],
      "text/plain": [
       "'()"
      ]
     },
     "execution_count": 84,
     "metadata": {},
     "output_type": "execute_result"
    }
   ],
   "source": [
    "(map identity '()) = '()"
   ]
  },
  {
   "cell_type": "markdown",
   "metadata": {},
   "source": [
    "Q.E.D (base)\n",
    "\n",
    "### Inductive Step:\n",
    "\n",
    "Assume that for a list `xs`:"
   ]
  },
  {
   "cell_type": "markdown",
   "metadata": {},
   "source": [
    "```racket\n",
    "(map identity xs) = xs\n",
    "```\n",
    "\n",
    "\n",
    "Now, consider a list `lst` with one more element:\n",
    "\n",
    "```racket\n",
    "lst = (cons x xs)\n",
    "```\n",
    "\n",
    "Let's compute \n",
    "\n",
    "```racket\n",
    "(map identity (cons x xs))\n",
    "```\n",
    "⇒\n",
    "\n",
    "```racket\n",
    "(\n",
    "  if (null? lst)\n",
    "    '()\n",
    "    (cons \n",
    "      (f (car lst)) \n",
    "      (map f (cdr lst))\n",
    "    )\n",
    ")\n",
    "```\n",
    "⇒\n",
    "\n",
    "```racket\n",
    "(\n",
    "  if (null? (cons x xs))\n",
    "    '()\n",
    "    (cons \n",
    "      (identity (car (cons x xs))) \n",
    "      (map identity (cdr (cons x xs)))\n",
    "    )\n",
    ")\n",
    "```\n",
    "⇒\n",
    "\n",
    "```racket\n",
    "(\n",
    "  if (#f)\n",
    "    '()\n",
    "    (cons \n",
    "      (identity (car (cons x xs))) \n",
    "      (map identity (cdr (cons x xs)))\n",
    "    )\n",
    ")\n",
    "```\n",
    "\n",
    "⇒\n",
    "\n",
    "\n",
    "```racket\n",
    "(cons \n",
    "  (identity (car (cons x xs))) \n",
    "  (map identity (cdr (cons x xs)))\n",
    ")\n",
    "```\n",
    "\n",
    "⇒\n",
    "\n",
    "```racket\n",
    "(cons \n",
    "  (identity x) \n",
    "  (map identity (cdr (cons x xs)))\n",
    ")\n",
    "```\n",
    "\n",
    "⇒\n",
    "\n",
    "```racket\n",
    "(cons \n",
    "  x \n",
    "  (map identity (cdr (cons x xs)))\n",
    ")\n",
    "```\n",
    "\n",
    "⇒\n",
    "\n",
    "```racket\n",
    "(cons \n",
    "  x \n",
    "  (map identity xs)\n",
    ")\n",
    "```\n",
    "\n",
    "By the fisrt step\n",
    "\n",
    "```racket\n",
    "(map identity xs) = xs\n",
    "```\n"
   ]
  },
  {
   "cell_type": "markdown",
   "metadata": {},
   "source": [
    "So,\n",
    "\n",
    "```racket\n",
    "(cons \n",
    "  x \n",
    "  xs\n",
    ")\n",
    "```\n",
    "\n"
   ]
  },
  {
   "cell_type": "markdown",
   "metadata": {},
   "source": [
    "In other words,\n",
    "\n",
    "```racket\n",
    "\n",
    "(map identity (cons x xs)) = (cons x xs)\n",
    "```\n",
    "\n",
    "Q.E.D (induction)"
   ]
  },
  {
   "cell_type": "markdown",
   "metadata": {},
   "source": [
    "So, in general\n",
    "\n",
    "```racket\n",
    "(map identity lst) = lst\n",
    "```\n",
    "\n",
    "### Q.E.D"
   ]
  },
  {
   "cell_type": "markdown",
   "metadata": {},
   "source": [
    "#### Exercise 1.5.2 (5 points). \n",
    "\n",
    "Prove the second functor law for `map` and lists. Specifically, provide a\n",
    "correct definition of `map` and show that for any *pure* functions `f` and `g` and any list `lst`, you have\n",
    "\n",
    "\n",
    "```racket\n",
    "(map f (map g lst)) = ... = (map (lambda (x) (f (g x))) lst)\n",
    "```\n",
    "\n",
    "Let's review map definition:"
   ]
  },
  {
   "cell_type": "code",
   "execution_count": 85,
   "metadata": {
    "vscode": {
     "languageId": "racket"
    }
   },
   "outputs": [],
   "source": [
    "(define (map f lst)\n",
    "(\n",
    "  if (null? lst)\n",
    "    '()\n",
    "    (cons \n",
    "      (f (car lst)) \n",
    "      (map f (cdr lst))\n",
    "    )\n",
    ")\n",
    ")"
   ]
  },
  {
   "cell_type": "markdown",
   "metadata": {},
   "source": [
    "#### Base case\n",
    "\n",
    "##### 1.\n",
    "\n",
    "```racket\n",
    "(define lst '())\n",
    "```\n",
    "\n",
    "Let's compute and proof our equation\n",
    "\n",
    "\n",
    "```racket\n",
    "(map f (map g '()))\n",
    "```\n",
    "⇒\n",
    "\n",
    "```racket\n",
    "(map f\n",
    "    (\n",
    "    if (null? '())\n",
    "        '()\n",
    "        (cons \n",
    "        (g (car '())) \n",
    "        (map g (cdr '()))\n",
    "        )\n",
    "    )\n",
    ")\n",
    "```\n",
    "⇒\n",
    "\n",
    "```racket\n",
    "(map f\n",
    "    (\n",
    "    if (#t)\n",
    "        '()\n",
    "        (cons \n",
    "        (g (car '())) \n",
    "        (map g (cdr '()))\n",
    "        )\n",
    "    )\n",
    ")\n",
    "```\n",
    "⇒\n",
    "\n",
    "```racket\n",
    "(map f\n",
    "    '() \n",
    ")\n",
    "```\n",
    "⇒\n",
    "\n",
    "```racket\n",
    "(\n",
    "  if (null? '())\n",
    "    '()\n",
    "    (cons \n",
    "      (f (car '())) \n",
    "      (map f (cdr '()))\n",
    "    )\n",
    ")\n",
    "\n",
    "```\n",
    "⇒\n",
    "\n",
    "```racket\n",
    "(\n",
    "  if (#t)\n",
    "    '()\n",
    "    (cons \n",
    "      (f (car '())) \n",
    "      (map f (cdr '()))\n",
    "    )\n",
    ")\n",
    "\n",
    "```\n",
    "⇒\n",
    "\n",
    "```racket\n",
    "'()\n",
    "\n",
    "```"
   ]
  },
  {
   "cell_type": "markdown",
   "metadata": {},
   "source": [
    "##### 2.\n",
    "\n",
    "now let's compute\n",
    "\n",
    "```racket\n",
    "(map (lambda (x) (f (g x))) '())\n",
    "```\n",
    "⇒\n",
    "\n",
    "```racket\n",
    "(\n",
    "  if (null? '())\n",
    "    '()\n",
    "    (cons \n",
    "      ((lambda (x) (f (g x))) (car lst)) \n",
    "      (map (lambda (x) (f (g x))) (cdr lst))\n",
    "    )\n",
    ")\n",
    "```\n",
    "⇒\n",
    "\n",
    "```racket\n",
    "(\n",
    "  if (#t)\n",
    "    '()\n",
    "    (cons \n",
    "      ((lambda (x) (f (g x))) (car lst)) \n",
    "      (map (lambda (x) (f (g x))) (cdr lst))\n",
    "    )\n",
    ")\n",
    "```\n",
    "⇒\n",
    "\n",
    "```racket\n",
    "\n",
    "'()\n",
    "```"
   ]
  },
  {
   "cell_type": "markdown",
   "metadata": {},
   "source": [
    "\n",
    "now let's compute\n",
    "\n",
    "```racket\n",
    "(map (lambda (x) (f (g x))) '())\n",
    "```\n",
    "⇒\n",
    "\n",
    "```racket\n",
    "(\n",
    "  if (null? '())\n",
    "    '()\n",
    "    (cons \n",
    "      ((lambda (x) (f (g x))) (car lst)) \n",
    "      (map (lambda (x) (f (g x))) (cdr lst))\n",
    "    )\n",
    ")\n",
    "```\n",
    "⇒\n",
    "\n",
    "```racket\n",
    "(\n",
    "  if (#t)\n",
    "    '()\n",
    "    (cons \n",
    "      ((lambda (x) (f (g x))) (car lst)) \n",
    "      (map (lambda (x) (f (g x))) (cdr lst))\n",
    "    )\n",
    ")\n",
    "```\n",
    "⇒\n",
    "\n",
    "```racket\n",
    "'()\n",
    "```"
   ]
  },
  {
   "cell_type": "markdown",
   "metadata": {},
   "source": [
    "So we have:\n",
    "\n",
    "```racket\n",
    "(map f (map g '())) = '() = (map (lambda (x) (f (g x))) '())\n",
    "```\n",
    "\n",
    "#### Base case Q.E.D"
   ]
  },
  {
   "cell_type": "markdown",
   "metadata": {},
   "source": [
    "#### Inductive Step:\n",
    "\n",
    "Assume that for a list `xs`, the following holds:\n",
    "\n",
    "```racket\n",
    "(map f (map g xs)) = (map (lambda (x) (f (g x))) xs)\n",
    "```\n",
    "\n",
    "consider a list lst defined as:\n",
    "\n",
    "```racket\n",
    "(define lst (cons x xs))\n",
    "```\n",
    "\n",
    "\n"
   ]
  },
  {
   "cell_type": "markdown",
   "metadata": {},
   "source": [
    "##### 1\n",
    "\n",
    "Let's compute\n",
    "\n",
    "```racket\n",
    "(map f (map g lst))\n",
    "```\n",
    "Or, in other terms:\n",
    "\n",
    "```racket\n",
    "(map f (map g (cons x xs)))\n",
    "```\n",
    "⇒\n",
    "\n",
    "```racket\n",
    "(map f \n",
    "    (\n",
    "    if (null? (cons x xs))\n",
    "        '()\n",
    "        (cons \n",
    "        (g (car (cons x xs))) \n",
    "        (map g (cdr (cons x xs)))\n",
    "        )\n",
    "    )\n",
    ")\n",
    "```\n",
    "⇒\n",
    "\n",
    "```racket\n",
    "(map f \n",
    "    (\n",
    "    if (#f)\n",
    "        '()\n",
    "        (cons \n",
    "        (g (car (cons x xs))) \n",
    "        (map g (cdr (cons x xs)))\n",
    "        )\n",
    "    )\n",
    ")\n",
    "```\n",
    "⇒\n",
    "\n",
    "```racket\n",
    "(map f \n",
    "    (cons \n",
    "    (g (car (cons x xs))) \n",
    "    (map g (cdr (cons x xs)))\n",
    "    )\n",
    ")\n",
    "```\n",
    "⇒\n",
    "\n",
    "```racket\n",
    "(map f \n",
    "    (cons \n",
    "    (g x) \n",
    "    (map g (cdr (cons x xs)))\n",
    "    )\n",
    ")\n",
    "```\n",
    "⇒\n",
    "\n",
    "```racket\n",
    "(map f \n",
    "    (cons \n",
    "    (g x) \n",
    "    (map g (cdr xs))\n",
    "    )\n",
    ")\n",
    "```\n",
    "⇒\n",
    "\n",
    "```racket\n",
    "(\n",
    "  if (null? \n",
    "            (cons \n",
    "                (g x) \n",
    "                (map g (cdr xs))\n",
    "            )\n",
    "    )\n",
    "\n",
    "    '()\n",
    "    (cons \n",
    "      (f (car \n",
    "            (cons \n",
    "                (g x) \n",
    "                (map g (cdr xs))\n",
    "            )\n",
    "        )\n",
    "      ) \n",
    "      (map f (cdr\n",
    "\n",
    "                (cons \n",
    "                    (g x) \n",
    "                    (map g (cdr xs))\n",
    "                )\n",
    "            \n",
    "             )\n",
    "      )\n",
    "    )\n",
    ")\n",
    "```\n",
    "⇒\n"
   ]
  },
  {
   "cell_type": "markdown",
   "metadata": {},
   "source": [
    "\n",
    "```racket\n",
    "(\n",
    "  if #f\n",
    "    '()\n",
    "    (cons \n",
    "      (f (car \n",
    "            (cons \n",
    "                (g x) \n",
    "                (map g (cdr xs))\n",
    "            )\n",
    "        )\n",
    "      ) \n",
    "      (map f (cdr\n",
    "\n",
    "                (cons \n",
    "                    (g x) \n",
    "                    (map g (cdr xs))\n",
    "                )\n",
    "            \n",
    "             )\n",
    "      )\n",
    "    )\n",
    ")\n",
    "```\n",
    "⇒\n",
    "\n",
    "\n",
    "```racket\n",
    "\n",
    "(cons \n",
    "    (f (car \n",
    "        (cons \n",
    "            (g x) \n",
    "            (map g (cdr xs))\n",
    "        )\n",
    "    )\n",
    "    ) \n",
    "    (map f (cdr\n",
    "\n",
    "            (cons \n",
    "                (g x) \n",
    "                (map g (cdr xs))\n",
    "            )\n",
    "        \n",
    "            )\n",
    "    )\n",
    ")\n",
    "\n",
    "```\n",
    "⇒\n",
    "\n",
    "\n",
    "```racket\n",
    "\n",
    "(cons \n",
    "    (f (g x) ) \n",
    "    (map f (cdr\n",
    "\n",
    "            (cons \n",
    "                (g x) \n",
    "                (map g (cdr xs))\n",
    "            )\n",
    "        \n",
    "            )\n",
    "    )\n",
    ")\n",
    "\n",
    "```\n",
    "⇒\n",
    "```racket\n",
    "\n",
    "(cons \n",
    "    (f (g x) ) \n",
    "    (map f (map g (cdr xs)))\n",
    ")\n",
    "\n"
   ]
  },
  {
   "cell_type": "markdown",
   "metadata": {},
   "source": [
    "#### **Result**\n",
    "```racket\n",
    "(map f (map g (cons x xs))) \n",
    "\n",
    "= \n",
    "\n",
    "(cons \n",
    "    (f (g x) ) \n",
    "    (map f (map g (cdr xs)))\n",
    ")\n",
    "```"
   ]
  },
  {
   "cell_type": "markdown",
   "metadata": {},
   "source": [
    "##### 2. \n",
    "Let's compute\n",
    "\n",
    "```racket\n",
    "(map (lambda (x) (f (g x))) (cons x xs))\n",
    "```\n",
    "⇒\n",
    "\n",
    "```racket\n",
    "(\n",
    "  if (null? (cons x xs))\n",
    "    '()\n",
    "    (cons \n",
    "      ((lambda (x) (f (g x))) (car (cons x xs))) \n",
    "      (map (lambda (x) (f (g x))) (cdr (cons x xs)))\n",
    "    )\n",
    ")\n",
    "```\n",
    "⇒\n",
    "\n",
    "```racket\n",
    "(\n",
    "  if (#f)\n",
    "    '()\n",
    "    (cons \n",
    "      ((lambda (x) (f (g x))) (car (cons x xs))) \n",
    "      (map (lambda (x) (f (g x))) (cdr (cons x xs)))\n",
    "    )\n",
    ")\n",
    "```\n",
    "⇒\n",
    "\n",
    "```racket\n",
    "(cons \n",
    "    ((lambda (x) (f (g x))) x) \n",
    "    (map (lambda (x) (f (g x))) (cdr (cons x xs)))\n",
    ")\n",
    "```\n",
    "⇒\n",
    "\n",
    "```racket\n",
    "(cons \n",
    "    ((lambda (x) (f (g x))) x) \n",
    "    (map (lambda (x) (f (g x))) xs)\n",
    ")\n",
    "```\n",
    "⇒\n",
    "\n",
    "```racket\n",
    "(cons \n",
    "    (f (g x)) \n",
    "    (map (lambda (x) (f (g x))) xs)\n",
    ")\n",
    "```"
   ]
  },
  {
   "cell_type": "markdown",
   "metadata": {},
   "source": [
    "#### **Result**\n",
    "\n",
    "```racket\n",
    "(map (lambda (x) (f (g x))) (cons x xs))\n",
    "\n",
    "=\n",
    "\n",
    "(cons \n",
    "    (f (g x)) \n",
    "    (map (lambda (x) (f (g x))) xs)\n",
    ")\n",
    "\n",
    "```\n",
    "\n",
    "By our inductive statement:\n",
    "\n",
    "```racket\n",
    "(map f (map g xs)) = (map (lambda (x) (f (g x))) xs)\n",
    "```\n",
    "\n",
    "So\n",
    "\n",
    "\n",
    "```racket\n",
    "(map (lambda (x) (f (g x))) (cons x xs))\n",
    "\n",
    "=\n",
    "\n",
    "(cons \n",
    "    (f (g x)) \n",
    "    (map (lambda (x) (f (g x))) xs)\n",
    ")\n",
    "\n",
    "=\n",
    "\n",
    "(cons \n",
    "    (f (g x) ) \n",
    "    (map f (map g (cdr xs)))\n",
    ")\n",
    "\n",
    "=\n",
    "\n",
    "(map f (map g (cons x xs))) \n",
    "\n",
    "```"
   ]
  },
  {
   "cell_type": "markdown",
   "metadata": {},
   "source": [
    "### **Final result**\n",
    "\n",
    "For any list `lst` (eq. `(cons x xs)`) the condition is met:\n",
    "\n",
    "```racket\n",
    "(map f (map g lst)) = ... = (map (lambda (x) (f (g x))) lst)\n",
    "\n",
    "```\n",
    "\n",
    "### Q.E.D."
   ]
  },
  {
   "cell_type": "markdown",
   "metadata": {},
   "source": [
    "#### Exercise 1.5.3 (+0.25% extra credit).\n",
    "\n",
    "Prove that filtering a list cannot increase its length. Specifically, provide a correct definition of `filter` and show that for any pure predicate `p` and any list `lst`, you have\n",
    "\n",
    "```racket\n",
    "(length (filter p lst)) <= (length lst)\n",
    "```"
   ]
  },
  {
   "cell_type": "code",
   "execution_count": 86,
   "metadata": {
    "vscode": {
     "languageId": "racket"
    }
   },
   "outputs": [],
   "source": [
    "(define (filter p lst)\n",
    "(cond \n",
    "    [(empty? lst) empty]\n",
    "    [(p (first lst)) \n",
    "        (cons \n",
    "            (first lst) \n",
    "            (filter p (rest lst))\n",
    "        )\n",
    "    ]\n",
    "    [else \n",
    "        (filter p (rest lst))\n",
    "    ]\n",
    ")       \n",
    ")"
   ]
  },
  {
   "cell_type": "code",
   "execution_count": 87,
   "metadata": {
    "vscode": {
     "languageId": "racket"
    }
   },
   "outputs": [
    {
     "name": "stdout",
     "output_type": "stream",
     "text": [
      "Success\n"
     ]
    }
   ],
   "source": [
    "(check (filter-shortens-list filter))"
   ]
  },
  {
   "cell_type": "markdown",
   "metadata": {},
   "source": [
    "### Prove by induction\n",
    "#### Base case\n",
    "Let `lst` be the empty list `'()`.\n",
    "\n",
    "```racket\n",
    "(length (filter p '()))\n",
    "```\n",
    "⇒\n",
    "\n",
    "```racket\n",
    "(length \n",
    "    (cond \n",
    "        [(empty? '()) empty]\n",
    "        [(p (first '())) \n",
    "            (cons \n",
    "                (first '()) \n",
    "                (filter p (rest '()))\n",
    "            )\n",
    "        ]\n",
    "        [else \n",
    "            (filter p (rest '()))\n",
    "        ]\n",
    "    )   \n",
    ")\n",
    "```\n",
    "⇒\n",
    "\n",
    "```racket\n",
    "(length \n",
    "    (cond \n",
    "        [#t empty]\n",
    "        [(p (first '())) \n",
    "            (cons \n",
    "                (first '()) \n",
    "                (filter p (rest '()))\n",
    "            )\n",
    "        ]\n",
    "        [else \n",
    "            (filter p (rest '()))\n",
    "        ]\n",
    "    )   \n",
    ")\n",
    "```\n",
    "⇒\n",
    "\n",
    "```racket\n",
    "(length empty)\n",
    "```\n",
    "⇒\n",
    "\n",
    "```racket\n",
    "0\n",
    "```\n",
    "\n",
    "So, in other words:\n",
    "\n",
    "```racket\n",
    "(length (filter p '())) = 0 <= 0 = (length '())\n",
    "```\n",
    "\n",
    "#### Base case Q.E.D"
   ]
  },
  {
   "cell_type": "markdown",
   "metadata": {},
   "source": [
    "Consider a `lst` defined by:\n",
    "\n",
    "```racket\n",
    "(define lst (cons x xs))\n",
    "```\n",
    "\n",
    "where `xs` is a list for which the condition is satisfied:\n",
    "\n",
    "```racket\n",
    "(length (filter p xs)) <= (length xs)\n",
    "```"
   ]
  },
  {
   "cell_type": "markdown",
   "metadata": {},
   "source": [
    "Let's compute!\n",
    "\n",
    "```racket\n",
    "(length (filter p (cons x xs)))\n",
    "```\n",
    "\n",
    "⇒\n",
    "\n",
    "```racket\n",
    "(length\n",
    "    (cond \n",
    "        [(empty? lst) (cons x xs)]\n",
    "        [(p (first (cons x xs))) \n",
    "            (cons \n",
    "                (first (cons x xs)) \n",
    "                (filter p (rest (cons x xs)))\n",
    "            )\n",
    "        ]\n",
    "        [else \n",
    "            (filter p (rest (cons x xs)))\n",
    "        ]\n",
    "    ) \n",
    ")\n",
    "```\n",
    "\n",
    "⇒\n",
    "\n",
    "```racket\n",
    "(length\n",
    "    (cond \n",
    "        [#f (cons x xs)]\n",
    "        [(p (first (cons x xs))) \n",
    "            (cons \n",
    "                (first (cons x xs)) \n",
    "                (filter p (rest (cons x xs)))\n",
    "            )\n",
    "        ]\n",
    "        [else \n",
    "            (filter p (rest (cons x xs)))\n",
    "        ]\n",
    "    ) \n",
    ")\n",
    "```\n",
    "\n",
    "\n",
    "⇒\n",
    "\n",
    "```racket\n",
    "(length\n",
    "    (cond \n",
    "        [#f (cons x xs)]\n",
    "        [(p x) \n",
    "            (cons \n",
    "                (first (cons x xs)) \n",
    "                (filter p (rest (cons x xs)))\n",
    "            )\n",
    "        ]\n",
    "        [else \n",
    "            (filter p (rest (cons x xs)))\n",
    "        ]\n",
    "    ) \n",
    ")\n",
    "```\n",
    "\n",
    "⇒\n",
    "\n",
    "```racket\n",
    "(length\n",
    "    (cond \n",
    "        [#f (cons x xs)]\n",
    "        [(p x) \n",
    "            (cons \n",
    "                x \n",
    "                (filter p (rest (cons x xs)))\n",
    "            )\n",
    "        ]\n",
    "        [else \n",
    "            (filter p (rest (cons x xs)))\n",
    "        ]\n",
    "    ) \n",
    ")\n",
    "```\n",
    "⇒\n",
    "\n",
    "```racket\n",
    "(length\n",
    "    (cond \n",
    "        [#f (cons x xs)]\n",
    "        [(p x) \n",
    "            (cons \n",
    "                x \n",
    "                (filter p xs)\n",
    "            )\n",
    "        ]\n",
    "        [else \n",
    "            (filter p (rest (cons x xs)))\n",
    "        ]\n",
    "    ) \n",
    ")\n",
    "```\n",
    "⇒\n",
    "\n",
    "```racket\n",
    "(length\n",
    "    (cond \n",
    "        [#f (cons x xs)]\n",
    "        [(p x) \n",
    "            (cons \n",
    "                x \n",
    "                (filter p xs)\n",
    "            )\n",
    "        ]\n",
    "        [else \n",
    "            (filter p xs)\n",
    "        ]\n",
    "    ) \n",
    ")\n",
    "```"
   ]
  },
  {
   "cell_type": "markdown",
   "metadata": {},
   "source": [
    "So, based on whenever `p x` true of false we will get different results.\n",
    "Let's consider 2 cases\n",
    "\n",
    "#### Case 1: `(p x)` is `#t` \n",
    "\n",
    "⇒\n",
    "\n",
    "```racket\n",
    "(length\n",
    "    (cond \n",
    "        [#f (cons x xs)]\n",
    "        [#t\n",
    "            (cons \n",
    "                x \n",
    "                (filter p xs)\n",
    "            )\n",
    "        ]\n",
    "        [else \n",
    "            (filter p xs)\n",
    "        ]\n",
    "    ) \n",
    ")\n",
    "```\n",
    "\n",
    "⇒\n",
    "\n",
    "```racket\n",
    "(length\n",
    "    (cons \n",
    "        x \n",
    "        (filter p xs)\n",
    "    )\n",
    ")\n",
    "```\n",
    "\n",
    "Knowing that\n",
    "\n",
    "```racket\n",
    "(length (filter p xs)) <= (length xs)\n",
    "```\n",
    "\n",
    "It's crear\n",
    "\n",
    "```racket\n",
    "+ (length (filter p xs)) 1 <= + (length xs) 1\n",
    "```\n",
    "\n",
    "And right and left parts are exactly:\n",
    "\n",
    "```racket\n",
    "(length (cons x (filter p xs))) <= (length (cons x xs))\n",
    "```\n",
    "\n",
    "**Statement proved by induction if `(p x)` is `#t`**"
   ]
  },
  {
   "cell_type": "markdown",
   "metadata": {},
   "source": [
    "#### Case 2: `(p x)` is `#f` \n",
    "\n",
    "⇒\n",
    "\n",
    "```racket\n",
    "(length\n",
    "    (cond \n",
    "        [#f (cons x xs)]\n",
    "        [#f\n",
    "            (cons \n",
    "                x \n",
    "                (filter p xs)\n",
    "            )\n",
    "        ]\n",
    "        [else \n",
    "            (filter p xs)\n",
    "        ]\n",
    "    ) \n",
    ")\n",
    "```\n",
    "\n",
    "⇒\n",
    "\n",
    "```racket\n",
    "(length\n",
    "    (filter p xs)\n",
    ")\n",
    "```\n",
    "\n",
    "It's obvious that\n",
    "\n",
    "```racket\n",
    "(length (filter p xs)) <= (length xs) <= (length (cons x xs))\n",
    "```\n",
    "\n",
    "\n",
    "\n",
    "**Statement proved by induction if `(p x)` is `#f`**\n",
    "\n",
    "#### Final point\n",
    "\n",
    "To sum up, for any list `lst` getted from `(cons x xs)` we determined:\n",
    "\n",
    "\n",
    "```racket\n",
    "(length (filter p lst)) <= (length lst)\n",
    "\n",
    "```\n",
    "\n",
    "### Q.E.D."
   ]
  },
  {
   "cell_type": "markdown",
   "metadata": {},
   "source": []
  }
 ],
 "metadata": {
  "kernelspec": {
   "display_name": "Racket",
   "language": "racket",
   "name": "racket"
  },
  "language_info": {
   "codemirror_mode": "scheme",
   "file_extension": ".rkt",
   "mimetype": "text/x-racket",
   "name": "Racket",
   "pygments_lexer": "racket",
   "version": "8.14"
  }
 },
 "nbformat": 4,
 "nbformat_minor": 2
}
