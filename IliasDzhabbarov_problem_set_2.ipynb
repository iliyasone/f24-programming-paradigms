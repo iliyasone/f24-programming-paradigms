{
 "cells": [
  {
   "cell_type": "markdown",
   "metadata": {},
   "source": [
    "### 1.\n",
    "\n",
    "Implement the following functions over lists of symbols in Racket using explicit recursion (i.e.\n",
    "without using higher-order functions like apply, map, andmap, ormap, filter, and foldl). Each\n",
    "function must be implemented independently. Use tail recursion whenever it helps produce a\n",
    "more efficient implementation:\n"
   ]
  },
  {
   "cell_type": "markdown",
   "metadata": {},
   "source": [
    "(b) Annotate each symbol in a list with its occurrence in the list:"
   ]
  },
  {
   "cell_type": "raw",
   "metadata": {
    "vscode": {
     "languageId": "raw"
    }
   },
   "source": [
    "(require racket)\n",
    "(require pict)\n",
    "\n",
    "(define (annotate-occurrence symbs)\n",
    "    (define (count-char symbs symb buff)  \n",
    "        (cond \n",
    "            [(empty? symbs) (list symb buff)]\n",
    "            [(symbol=? (first symbs) symb) (count-char (rest symbs) symb (+ buff 1))]\n",
    "            [else (count-char (rest symbs) symb buff)]\n",
    "        )\n",
    "    )\n",
    "    (define (partial-annotate-occurrence symbs left answer)\n",
    "        (cond\n",
    "            [(empty? left) (reverse answer)]\n",
    "            [else (\n",
    "                    partial-annotate-occurrence\n",
    "                    (cons (first left) symbs)\n",
    "                    (rest left)\n",
    "                    (cons (count-char symbs (first left) 1) answer)\n",
    "                    )]\n",
    "        )\n",
    "    )\n",
    "    (partial-annotate-occurrence (list) symbs (list))\n",
    ")\n",
    "\n",
    "\n",
    "(print (annotate-occurrence '(h e l l o w o r l d)))\n",
    "; ==> '((h 1) (e 1) (l 1) (l 2) (o 1) (w 1) (o 2) (r 1) (l 3) (d 1))"
   ]
  },
  {
   "cell_type": "markdown",
   "metadata": {},
   "source": [
    "(a) Find the most frequent symbol in a list (return the first one when ambiguous):\n"
   ]
  },
  {
   "cell_type": "raw",
   "metadata": {
    "vscode": {
     "languageId": "raw"
    }
   },
   "source": [
    "(require racket)\n",
    "(require pict)\n",
    "\n",
    "(define (annotate-occurrence symbs)\n",
    "    (define (count-char symbs symb buff)  \n",
    "        (cond \n",
    "            [(empty? symbs) (list symb buff)]\n",
    "            [(symbol=? (first symbs) symb) (count-char (rest symbs) symb (+ buff 1))]\n",
    "            [else (count-char (rest symbs) symb buff)]\n",
    "        )\n",
    "    )\n",
    "    (define (partial-annotate-occurrence symbs left answer)\n",
    "        (cond\n",
    "            [(empty? left) (reverse answer)]\n",
    "            [else (\n",
    "                    partial-annotate-occurrence\n",
    "                    (cons (first left) symbs)\n",
    "                    (rest left)\n",
    "                    (cons (count-char symbs (first left) 1) answer)\n",
    "                    )]\n",
    "        )\n",
    "    )\n",
    "    (partial-annotate-occurrence (list) symbs (list))\n",
    ")\n",
    "\n",
    "(define (most-frequent symbs)\n",
    "    (define (helper annotate-symbs curr_max curr_symb)\n",
    "        (cond\n",
    "            [(empty? annotate-symbs) curr_symb]\n",
    "            [else\n",
    "                (let* \n",
    "                    (\n",
    "                        [check_symb (first (first annotate-symbs))]\n",
    "                        [check_count (second (first annotate-symbs))]\n",
    "                    )\n",
    "\n",
    "                    (cond\n",
    "                        [(> check_count curr_max) (helper (rest annotate-symbs) check_count check_symb)]\n",
    "                        [else (helper (rest annotate-symbs) curr_max curr_symb)]\n",
    "                    )\n",
    "                )\n",
    "            ]\n",
    "        )\n",
    "    )\n",
    "    (helper (annotate-occurrence symbs) 0 null)\n",
    ")\n",
    "\n",
    "\n",
    "(print (most-frequent '(h e l l o w o r l d)))"
   ]
  },
  {
   "cell_type": "markdown",
   "metadata": {},
   "source": [
    "(c) Convert a trinary string represented as a list of 0s, 1s, and 2s into a (decimal) number:"
   ]
  },
  {
   "cell_type": "raw",
   "metadata": {
    "vscode": {
     "languageId": "raw"
    }
   },
   "source": [
    "(require racket)\n",
    "(require pict)\n",
    "\n",
    "(define (trinary-to-decimal bits)\n",
    "    (define (helper bits result digit)\n",
    "        (cond\n",
    "            [(empty? bits) result]\n",
    "            [(= (first bits) 0) (helper (rest bits) result (+ 1 digit))]\n",
    "            [(= (first bits) 1) (helper (rest bits) (+ result (* 1 (expt 3 digit))) (+ 1 digit))]\n",
    "            [(= (first bits) 2) (helper (rest bits) (+ result (* 2 (expt 3 digit))) (+ 1 digit))]\n",
    "        )\n",
    "    )\n",
    "    (helper (reverse bits) 0 0)\n",
    ")\n",
    "\n",
    "(display (trinary-to-decimal '(1 0 2 1 0)))\n",
    "(newline)"
   ]
  },
  {
   "cell_type": "markdown",
   "metadata": {},
   "source": [
    "(d) Return the 3rd to last symbol in a list (you may assume it has enough symbols)"
   ]
  },
  {
   "cell_type": "raw",
   "metadata": {
    "vscode": {
     "languageId": "raw"
    }
   },
   "source": [
    "(require racket)\n",
    "(require pict)\n",
    "\n",
    "(define (third-to-last bits)\n",
    "    (define (helper bits current)\n",
    "        (cond\n",
    "            [(= current 2) (first bits)]\n",
    "            [else (helper (rest bits) (+ current 1))]\n",
    "        )\n",
    "    )\n",
    "    (helper (reverse bits) 0)\n",
    ")\n",
    "\n",
    "\n",
    "(print (third-to-last '(1 1 1 0 1 1))) ; ==> 0\n",
    "(newline)\n",
    "(print (third-to-last '(s y m b o l))) ; ==> 'b"
   ]
  },
  {
   "cell_type": "markdown",
   "metadata": {},
   "source": [
    "(e) Decrement a binary number. Decrementing zero should produce zero:"
   ]
  },
  {
   "cell_type": "raw",
   "metadata": {
    "vscode": {
     "languageId": "raw"
    }
   },
   "source": [
    "(require racket)\n",
    "(require pict)\n",
    "\n",
    "(define (decrement bits)\n",
    "    (define (helper bits answer buff)\n",
    "        (cond\n",
    "            [(empty? bits) \n",
    "                (cond\n",
    "                    [(> buff 0) '(0)] ; decrement failth \n",
    "                    [else answer]\n",
    "                )\n",
    "            ]\n",
    "            [(and (= (first bits) 0) (> buff 0)) (helper (rest bits) (cons 1 answer) buff)]\n",
    "            [(and (= (first bits) 1) (> buff 0)) (helper (rest bits) (cons 0 answer) (- buff 1))]\n",
    "            [else (helper (rest bits) (cons (first bits) answer) 0)]\n",
    "        )\n",
    "    )\n",
    "    (define (remove-leading-zeros bits)\n",
    "        (cond\n",
    "            [(and (not (empty? (rest bits))) (= (first bits ) 0)) (remove-leading-zeros (rest bits))]\n",
    "            [(and (not (empty? (rest bits))) (= (first bits ) 1)) bits]\n",
    "            [else bits])\n",
    "    )\n",
    "    (remove-leading-zeros (helper (reverse bits) (list) 1))\n",
    ")\n",
    "\n",
    "\n",
    "(print (decrement '(1 0 1 1 0))) ; ==> '(1 0 1 0 1)\n",
    "(newline)\n",
    "(print (decrement '(1 0 0 0 0))) ; ==> '(1 1 1 1)\n",
    "(newline)\n",
    "(print (decrement '(0))) ; ==> '(0)\n",
    "(newline)"
   ]
  },
  {
   "cell_type": "markdown",
   "metadata": {},
   "source": [
    "### 2.\n",
    "\n",
    "Implement in Racket a function `max-and-sum` that computes a maximum and a sum of a list of\n",
    "numbers.\n",
    "For example, ```(max-and-sum (list 6 2 4 1))``` should compute ```'(6 13)```."
   ]
  },
  {
   "cell_type": "markdown",
   "metadata": {},
   "source": [
    "(a) Implement max-and-sum using explicit recursion (i.e. without higher-order functions).\n"
   ]
  },
  {
   "cell_type": "raw",
   "metadata": {
    "vscode": {
     "languageId": "raw"
    }
   },
   "source": [
    "(require racket)\n",
    "(require pict)\n",
    "\n",
    "(define (max-and-sum-helper lst mxs buff)\n",
    "    (cond\n",
    "        [(empty? lst) (list mxs buff)]\n",
    "        [(or (null? mxs) (> (first lst) mxs))\n",
    "            (max-and-sum-helper \n",
    "                (rest lst) \n",
    "                (first lst) \n",
    "                (+ buff (first lst))\n",
    "            )\n",
    "        ]\n",
    "        [else (max-and-sum-helper (rest lst) mxs (+ buff (first lst)))]\n",
    "    )\n",
    ")\n",
    "\n",
    "(define (max-and-sum lst)\n",
    "    (max-and-sum-helper lst null 0)\n",
    ")\n",
    "\n",
    "(print (max-and-sum (list 6 2 4 1)))"
   ]
  },
  {
   "cell_type": "markdown",
   "metadata": {},
   "source": [
    "(b) Use the Substitution Model [1, §1.1.5] to verify that (second (max-and-sum (list x y z)))\n",
    "is equal to (+ x y z) for all x, y, and z\n",
    "\n",
    "Let's do it step by step:"
   ]
  },
  {
   "cell_type": "raw",
   "metadata": {
    "vscode": {
     "languageId": "raw"
    }
   },
   "source": [
    "(second (max-and-sum (list x y z)))"
   ]
  },
  {
   "cell_type": "raw",
   "metadata": {
    "vscode": {
     "languageId": "raw"
    }
   },
   "source": [
    "(second (max-and-sum-helper (list x y z) null 0))"
   ]
  },
  {
   "cell_type": "raw",
   "metadata": {
    "vscode": {
     "languageId": "raw"
    }
   },
   "source": [
    "(second (cond\n",
    "    [(empty? (list x y z)) (list null 0)]\n",
    "    [(or (null? null) (> (first (list x y z)) 0))    ; null is null so\n",
    "        (max-and-sum-helper                          ; calls `max-and-sum-helper` with \n",
    "            (rest (list x y z))                      ; lst = (list y z)\n",
    "            (first (list x y z))                     ; mxs = x\n",
    "            (+ 0 (first (list x y z)))               ; buff = x\n",
    "        )\n",
    "    ]\n",
    "    [else (max-and-sum-helper (rest (list x y z)) null (+ 0 (first (list x y z))))]\n",
    "    )\n",
    ")"
   ]
  },
  {
   "cell_type": "markdown",
   "metadata": {},
   "source": [
    "*another call..*"
   ]
  },
  {
   "cell_type": "raw",
   "metadata": {
    "vscode": {
     "languageId": "raw"
    }
   },
   "source": [
    "\n",
    "(second (cond\n",
    "        [(empty? (list y z)) (list x x)]\n",
    "        [(or (null? x) (> (first (list y z)) x))\n",
    "            (max-and-sum-helper \n",
    "                (rest (list y z)) \n",
    "                (first (list y z)) \n",
    "                (+ x (first (list y z)))\n",
    "            )\n",
    "        ]\n",
    "        [else (max-and-sum-helper (rest (list y z)) x (+ x (first (list y z))))]\n",
    "    )\n",
    ")"
   ]
  },
  {
   "cell_type": "markdown",
   "metadata": {},
   "source": [
    "*expand inner terms*"
   ]
  },
  {
   "cell_type": "raw",
   "metadata": {
    "vscode": {
     "languageId": "raw"
    }
   },
   "source": [
    "(second (cond\n",
    "        [#f (list x x)]\n",
    "        [(or #f (> y x))\n",
    "            (max-and-sum-helper \n",
    "                (list z)                    ; lst = (list z)\n",
    "                y                           ; mxs = (cond [(> y x) (y)] [else x])\n",
    "                (+ x y)                     ; buff = (+ x y)\n",
    "            )\n",
    "        ]\n",
    "        [else \n",
    "            (max-and-sum-helper \n",
    "                (list z)\n",
    "                x \n",
    "                (+ x y)\n",
    "            )\n",
    "        ]\n",
    "    )\n",
    ")"
   ]
  },
  {
   "cell_type": "markdown",
   "metadata": {},
   "source": [
    "*another call*"
   ]
  },
  {
   "cell_type": "raw",
   "metadata": {
    "vscode": {
     "languageId": "raw"
    }
   },
   "source": [
    "(second (cond\n",
    "        [#f (list (list) (cond [(> y x) y] [else x]) (+ x y))]\n",
    "        [(or #f (> z (cond [(> y x) y] [else x]))) \n",
    "            (max-and-sum-helper \n",
    "                (list)                              ; lst = (list)\n",
    "                z                                   ; mxs = (cond [(> z (cond [(> y x) (y)] [else x])) z] [else (cond [(> y x) (y)] [else x])])\n",
    "                (+ z (+ x y))                       ; buff = (+ x y z)\n",
    "            )\n",
    "        ]\n",
    "        [else \n",
    "            (max-and-sum-helper \n",
    "                (list)\n",
    "                (cond [(> y x) y] [else x])\n",
    "                (+ z (+ x y))   \n",
    "            )\n",
    "        ]\n",
    "    )\n",
    ")"
   ]
  },
  {
   "cell_type": "markdown",
   "metadata": {},
   "source": [
    "*last call*"
   ]
  },
  {
   "cell_type": "raw",
   "metadata": {
    "vscode": {
     "languageId": "raw"
    }
   },
   "source": [
    "(second\n",
    "    (cond\n",
    "        [(empty? (list)) (list (cond [(> z (cond [(> y x) (y)] [else x])) z] [else (cond [(> y x) (y)] [else x])]) (+ x y z))]\n",
    "        [...]\n",
    "        [...]\n",
    "    )\n",
    ")"
   ]
  },
  {
   "cell_type": "raw",
   "metadata": {
    "vscode": {
     "languageId": "raw"
    }
   },
   "source": [
    "(second (list \n",
    "    (cond [(> z (cond [(> y x) (y)] [else x])) z] [else (cond [(> y x) (y)] [else x])]) \n",
    "    (+ x y z)\n",
    "))"
   ]
  },
  {
   "cell_type": "raw",
   "metadata": {
    "vscode": {
     "languageId": "raw"
    }
   },
   "source": [
    "(+ x y z)"
   ]
  },
  {
   "cell_type": "markdown",
   "metadata": {},
   "source": [
    "*(c) Argue whether tail recursion can be used to optimize your implementation.*\n",
    "\n",
    "Tail recursion could be used, and I used it. It should make a huge optimization because it removes the need of multiply stack frames"
   ]
  },
  {
   "cell_type": "markdown",
   "metadata": {},
   "source": [
    "### 3. \n",
    "Consider the following definitions in Racket:"
   ]
  },
  {
   "cell_type": "raw",
   "metadata": {
    "vscode": {
     "languageId": "raw"
    }
   },
   "source": [
    "(require racket)\n",
    "(require pict)\n",
    "\n",
    "(define (dinc n) (+ n 2))\n",
    "\n",
    "(define (f n)\n",
    "    (cond\n",
    "        [(>= n 10) (- n 10)]\n",
    "        [else (* (f (dinc (dinc n))) (f (dinc n)))]\n",
    "    )\n",
    ")"
   ]
  },
  {
   "cell_type": "raw",
   "metadata": {
    "vscode": {
     "languageId": "raw"
    }
   },
   "source": [
    "(f 3)"
   ]
  },
  {
   "cell_type": "markdown",
   "metadata": {},
   "source": [
    "I would add `print` so I could test individual cell in the separate .rkt file"
   ]
  },
  {
   "cell_type": "raw",
   "metadata": {
    "vscode": {
     "languageId": "raw"
    }
   },
   "source": [
    "(print (f 3))"
   ]
  },
  {
   "cell_type": "raw",
   "metadata": {
    "vscode": {
     "languageId": "raw"
    }
   },
   "source": [
    "(print\n",
    "    (cond\n",
    "        [(>= 3 10) (- 3 10)]\n",
    "        \n",
    "        [else (* \n",
    "                (f (dinc (dinc 3))) \n",
    "                (f (dinc 3))\n",
    "            )\n",
    "        ]\n",
    "    )\n",
    ")"
   ]
  },
  {
   "cell_type": "raw",
   "metadata": {
    "vscode": {
     "languageId": "raw"
    }
   },
   "source": [
    "(print\n",
    "    (cond\n",
    "        [(>= 3 10) (- 3 10)]\n",
    "        \n",
    "        [else (* \n",
    "                (f (dinc (+ 3 2))) \n",
    "                (f (dinc 3))\n",
    "            )\n",
    "        ]\n",
    "    )\n",
    ")"
   ]
  },
  {
   "cell_type": "raw",
   "metadata": {
    "vscode": {
     "languageId": "raw"
    }
   },
   "source": [
    "(print\n",
    "    (cond\n",
    "        [(>= 3 10) (- 3 10)]\n",
    "        \n",
    "        [else (* \n",
    "                (f (+ 5 2)) \n",
    "                (f (dinc 3))\n",
    "            )\n",
    "        ]\n",
    "    )\n",
    ")"
   ]
  },
  {
   "cell_type": "raw",
   "metadata": {
    "vscode": {
     "languageId": "raw"
    }
   },
   "source": [
    "(print\n",
    "    (cond\n",
    "        [(>= 3 10) (- 3 10)]\n",
    "        \n",
    "        [else (* \n",
    "                (f 7) \n",
    "                (f (+ 3 2))\n",
    "            )\n",
    "        ]\n",
    "    )\n",
    ")"
   ]
  },
  {
   "cell_type": "raw",
   "metadata": {
    "vscode": {
     "languageId": "raw"
    }
   },
   "source": [
    "(print\n",
    "    (cond\n",
    "        [(>= 3 10) (- 3 10)]\n",
    "        \n",
    "        [else (* \n",
    "                (f 7) \n",
    "                (f 5)\n",
    "            )\n",
    "        ]\n",
    "    )\n",
    ")"
   ]
  },
  {
   "cell_type": "raw",
   "metadata": {
    "vscode": {
     "languageId": "raw"
    }
   },
   "source": [
    "(print\n",
    "    (cond\n",
    "        [(>= 3 10) (- 3 10)]\n",
    "        \n",
    "        [else (* \n",
    "                (cond\n",
    "                    [(>= 7 10) (- 7 10)]\n",
    "                    \n",
    "                    [else (* \n",
    "                            (f (dinc (dinc 7))) \n",
    "                            (f (dinc 7))\n",
    "                        )\n",
    "                    ]\n",
    "                )\n",
    "                (f 5)\n",
    "            )\n",
    "        ]\n",
    "    )\n",
    ")"
   ]
  },
  {
   "cell_type": "raw",
   "metadata": {
    "vscode": {
     "languageId": "raw"
    }
   },
   "source": [
    "(print\n",
    "    (cond\n",
    "        [(>= 3 10) (- 3 10)]\n",
    "        \n",
    "        [else (* \n",
    "                (cond\n",
    "                    [(>= 7 10) (- 7 10)]\n",
    "                    \n",
    "                    [else (* \n",
    "                            (f (dinc (+ 7 2))) \n",
    "                            (f (dinc 7))\n",
    "                        )\n",
    "                    ]\n",
    "                )\n",
    "                (f 5)\n",
    "            )\n",
    "        ]\n",
    "    )\n",
    ")"
   ]
  },
  {
   "cell_type": "raw",
   "metadata": {
    "vscode": {
     "languageId": "raw"
    }
   },
   "source": [
    "(print\n",
    "    (cond\n",
    "        [(>= 3 10) (- 3 10)]\n",
    "        \n",
    "        [else (* \n",
    "                (cond\n",
    "                    [(>= 7 10) (- 7 10)]\n",
    "                    \n",
    "                    [else (* \n",
    "                            (f (+ 9 2)) \n",
    "                            (f (dinc 7))\n",
    "                        )\n",
    "                    ]\n",
    "                )\n",
    "                (f 5)\n",
    "            )\n",
    "        ]\n",
    "    )\n",
    ")"
   ]
  },
  {
   "cell_type": "raw",
   "metadata": {
    "vscode": {
     "languageId": "raw"
    }
   },
   "source": [
    "(print\n",
    "    (cond\n",
    "        [(>= 3 10) (- 3 10)]\n",
    "        \n",
    "        [else (* \n",
    "                (cond\n",
    "                    [(>= 7 10) (- 7 10)]\n",
    "                    \n",
    "                    [else (* \n",
    "                            (f 11) \n",
    "                            (f (+ 7 2))\n",
    "                        )\n",
    "                    ]\n",
    "                )\n",
    "                (f 5)\n",
    "            )\n",
    "        ]\n",
    "    )\n",
    ")"
   ]
  },
  {
   "cell_type": "raw",
   "metadata": {
    "vscode": {
     "languageId": "raw"
    }
   },
   "source": [
    "(print\n",
    "    (cond\n",
    "        [(>= 3 10) (- 3 10)]\n",
    "        \n",
    "        [else (* \n",
    "                (cond\n",
    "                    [(>= 7 10) (- 7 10)]\n",
    "                    \n",
    "                    [else (* \n",
    "                            (f 11) \n",
    "                            (f (+ 7 2))\n",
    "                        )\n",
    "                    ]\n",
    "                )\n",
    "                (f 5)\n",
    "            )\n",
    "        ]\n",
    "    )\n",
    ")\n"
   ]
  },
  {
   "cell_type": "raw",
   "metadata": {
    "vscode": {
     "languageId": "raw"
    }
   },
   "source": [
    "(print\n",
    "    (cond\n",
    "        [(>= 3 10) (- 3 10)]\n",
    "        \n",
    "        [else (* \n",
    "                (cond\n",
    "                    [(>= 7 10) (- 7 10)]\n",
    "                    \n",
    "                    [else (* \n",
    "                            (f 11) \n",
    "                            (f 9)\n",
    "                        )\n",
    "                    ]\n",
    "                )\n",
    "                (f 5)\n",
    "            )\n",
    "        ]\n",
    "    )\n",
    ")"
   ]
  },
  {
   "cell_type": "raw",
   "metadata": {
    "vscode": {
     "languageId": "raw"
    }
   },
   "source": [
    "; cond expand\n",
    "\n",
    "(print\n",
    "    (* \n",
    "        (* \n",
    "            (f 11) \n",
    "            (f 9)\n",
    "        )\n",
    "        (f 5)\n",
    "    )\n",
    ")"
   ]
  },
  {
   "cell_type": "raw",
   "metadata": {
    "vscode": {
     "languageId": "raw"
    }
   },
   "source": [
    "(print\n",
    "    (* \n",
    "        (* \n",
    "            (cond\n",
    "                [(>= 11 10) (- 11 10)]\n",
    "                \n",
    "                [else (* \n",
    "                        (f (dinc (dinc 11))) \n",
    "                        (f (dinc 11))\n",
    "                    )\n",
    "                ]\n",
    "            )\n",
    "            (f 9)\n",
    "        )\n",
    "        (f 5)\n",
    "    )\n",
    ")"
   ]
  },
  {
   "cell_type": "raw",
   "metadata": {
    "vscode": {
     "languageId": "raw"
    }
   },
   "source": [
    "(print\n",
    "    (* \n",
    "        (* \n",
    "            1\n",
    "            (f 9)\n",
    "        )\n",
    "        (f 5)\n",
    "    )\n",
    ")\n"
   ]
  },
  {
   "cell_type": "raw",
   "metadata": {
    "vscode": {
     "languageId": "raw"
    }
   },
   "source": [
    "(print\n",
    "    (* \n",
    "        (* \n",
    "            1\n",
    "            (cond\n",
    "                [(>= 9 10) (- 9 10)]\n",
    "                \n",
    "                [else (* \n",
    "                        (f (dinc (dinc 9))) \n",
    "                        (f (dinc 9))\n",
    "                    )\n",
    "                ]\n",
    "            )\n",
    "        )\n",
    "        (f 5)\n",
    "    )\n",
    ")"
   ]
  },
  {
   "cell_type": "raw",
   "metadata": {
    "vscode": {
     "languageId": "raw"
    }
   },
   "source": [
    "(print\n",
    "    (* \n",
    "        (* \n",
    "            1\n",
    "            (* \n",
    "                (f (dinc (dinc 9))) \n",
    "                (f (dinc 9))\n",
    "\n",
    "            )\n",
    "        )\n",
    "        (f 5)\n",
    "    )\n",
    ")"
   ]
  },
  {
   "cell_type": "raw",
   "metadata": {
    "vscode": {
     "languageId": "raw"
    }
   },
   "source": [
    "(print\n",
    "    (* \n",
    "        (* \n",
    "            1\n",
    "            (* \n",
    "                (f (dinc (+ 9 2))) \n",
    "                (f (dinc 9))\n",
    "\n",
    "            )\n",
    "        )\n",
    "        (f 5)\n",
    "    )\n",
    ")"
   ]
  },
  {
   "cell_type": "raw",
   "metadata": {
    "vscode": {
     "languageId": "raw"
    }
   },
   "source": [
    "(print\n",
    "    (* \n",
    "        (* \n",
    "            1\n",
    "            (* \n",
    "                (f (+ 11 2)) \n",
    "                (f (dinc 9))\n",
    "\n",
    "            )\n",
    "        )\n",
    "        (f 5)\n",
    "    )\n",
    ")"
   ]
  },
  {
   "cell_type": "raw",
   "metadata": {
    "vscode": {
     "languageId": "raw"
    }
   },
   "source": [
    "(print\n",
    "    (* \n",
    "        (* \n",
    "            1\n",
    "            (* \n",
    "                (f 13) \n",
    "                (f (dinc 9))\n",
    "\n",
    "            )\n",
    "        )\n",
    "        (f 5)\n",
    "    )\n",
    ")"
   ]
  },
  {
   "cell_type": "raw",
   "metadata": {
    "vscode": {
     "languageId": "raw"
    }
   },
   "source": [
    "(print\n",
    "    (* \n",
    "        (* \n",
    "            1\n",
    "            (* \n",
    "                (cond\n",
    "                    [(>= 13 10) (- 13 10)]\n",
    "                    \n",
    "                    [else (* \n",
    "                            (f (dinc (dinc 13))) \n",
    "                            (f (dinc 13))\n",
    "                        )\n",
    "                    ]\n",
    "                )\n",
    "                (f (dinc 9))\n",
    "\n",
    "            )\n",
    "        )\n",
    "        (f 5)\n",
    "    )\n",
    ")"
   ]
  },
  {
   "cell_type": "raw",
   "metadata": {
    "vscode": {
     "languageId": "raw"
    }
   },
   "source": [
    "(print\n",
    "    (* \n",
    "        (* \n",
    "            1\n",
    "            (* \n",
    "                (cond\n",
    "                    [(>= 13 10) (- 13 10)]\n",
    "                    \n",
    "                    [else (* \n",
    "                            (f (dinc (dinc 13))) \n",
    "                            (f (dinc 13))\n",
    "                        )\n",
    "                    ]\n",
    "                )\n",
    "                (f (dinc 9))\n",
    "\n",
    "            )\n",
    "        )\n",
    "        (f 5)\n",
    "    )\n",
    ")\n"
   ]
  },
  {
   "cell_type": "raw",
   "metadata": {
    "vscode": {
     "languageId": "raw"
    }
   },
   "source": [
    "(print\n",
    "    (* \n",
    "        (* \n",
    "            1\n",
    "            (* \n",
    "                3\n",
    "                (f (+ 9 2))\n",
    "\n",
    "            )\n",
    "        )\n",
    "        (f 5)\n",
    "    )\n",
    ")"
   ]
  },
  {
   "cell_type": "raw",
   "metadata": {
    "vscode": {
     "languageId": "raw"
    }
   },
   "source": [
    "(print\n",
    "    (* \n",
    "        (* \n",
    "            1\n",
    "            (* \n",
    "                3\n",
    "                (f 11)\n",
    "\n",
    "            )\n",
    "        )\n",
    "        (f 5)\n",
    "    )\n",
    ")"
   ]
  },
  {
   "cell_type": "raw",
   "metadata": {
    "vscode": {
     "languageId": "raw"
    }
   },
   "source": [
    "(print\n",
    "    (* \n",
    "        (* \n",
    "            1\n",
    "            (* \n",
    "                3\n",
    "                (cond\n",
    "                    [(>= 11 10) (- 11 10)]\n",
    "                    \n",
    "                    [else (* \n",
    "                            (f (dinc (dinc 11))) \n",
    "                            (f (dinc 11))\n",
    "                        )\n",
    "                    ]\n",
    "                )\n",
    "\n",
    "            )\n",
    "        )\n",
    "        (f 5)\n",
    "    )\n",
    ")"
   ]
  },
  {
   "cell_type": "raw",
   "metadata": {
    "vscode": {
     "languageId": "raw"
    }
   },
   "source": [
    "(print\n",
    "    (* \n",
    "        (* \n",
    "            1\n",
    "            (* \n",
    "                3\n",
    "                1\n",
    "            )\n",
    "        )\n",
    "        (f 5)\n",
    "    )\n",
    ")"
   ]
  },
  {
   "cell_type": "raw",
   "metadata": {
    "vscode": {
     "languageId": "raw"
    }
   },
   "source": [
    "(print\n",
    "    (* \n",
    "        (* \n",
    "            1\n",
    "            3\n",
    "        )\n",
    "        (f 5)\n",
    "    )\n",
    ")"
   ]
  },
  {
   "cell_type": "raw",
   "metadata": {
    "vscode": {
     "languageId": "raw"
    }
   },
   "source": [
    "(print\n",
    "    (* \n",
    "        3\n",
    "        (f 5)\n",
    "    )\n",
    ")"
   ]
  },
  {
   "cell_type": "raw",
   "metadata": {
    "vscode": {
     "languageId": "raw"
    }
   },
   "source": [
    "(print\n",
    "    (* \n",
    "        3\n",
    "        (cond\n",
    "            [(>= 5 10) (- 5 10)]\n",
    "            \n",
    "            [else (* \n",
    "                    (f (dinc (dinc 5))) \n",
    "                    (f (dinc 5))\n",
    "                )\n",
    "            ]\n",
    "        )\n",
    "    )\n",
    ")"
   ]
  },
  {
   "cell_type": "raw",
   "metadata": {
    "vscode": {
     "languageId": "raw"
    }
   },
   "source": [
    "(print\n",
    "    (* \n",
    "        3\n",
    "        (* \n",
    "            (f (dinc (+ 5 2))) \n",
    "            (f (+ 5 2))\n",
    "        )\n",
    "    )\n",
    ")\n"
   ]
  },
  {
   "cell_type": "raw",
   "metadata": {
    "vscode": {
     "languageId": "raw"
    }
   },
   "source": [
    "(print\n",
    "    (* \n",
    "        3\n",
    "        (* \n",
    "            (f (+ 7 2)) \n",
    "            (f 7)\n",
    "        )\n",
    "    )\n",
    ")"
   ]
  },
  {
   "cell_type": "raw",
   "metadata": {
    "vscode": {
     "languageId": "raw"
    }
   },
   "source": [
    "(print\n",
    "    (* \n",
    "        3\n",
    "        (* \n",
    "            (f 9)  ; ... (f 9) = 3 , already calculated by hand :(\n",
    "            (f 7)  ; ... (f 7) = 3 , already calculated by hand :(\n",
    "        )\n",
    "    )\n",
    ")"
   ]
  },
  {
   "cell_type": "raw",
   "metadata": {
    "vscode": {
     "languageId": "raw"
    }
   },
   "source": [
    "(print\n",
    "    (* \n",
    "        3\n",
    "        (* \n",
    "            3 \n",
    "            3  \n",
    "        )\n",
    "    )\n",
    ")"
   ]
  },
  {
   "cell_type": "raw",
   "metadata": {
    "vscode": {
     "languageId": "raw"
    }
   },
   "source": [
    "(print (* 3 3 3))"
   ]
  },
  {
   "cell_type": "raw",
   "metadata": {
    "vscode": {
     "languageId": "raw"
    }
   },
   "source": [
    "(print 27)"
   ]
  }
 ],
 "metadata": {
  "kernelspec": {
   "display_name": "Python 3 (ipykernel)",
   "language": "python",
   "name": "python3"
  },
  "language_info": {
   "codemirror_mode": {
    "name": "ipython",
    "version": 3
   },
   "file_extension": ".py",
   "mimetype": "text/x-python",
   "name": "python",
   "nbconvert_exporter": "python",
   "pygments_lexer": "ipython3",
   "version": "3.12.5"
  }
 },
 "nbformat": 4,
 "nbformat_minor": 4
}
