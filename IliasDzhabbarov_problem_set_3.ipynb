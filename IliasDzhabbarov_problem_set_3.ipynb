{
 "cells": [
  {
   "cell_type": "markdown",
   "metadata": {},
   "source": [
    "### 1. \n",
    "Implement the following functions in Racket using higher-order functions (apply, map, andmap,\n",
    "ormap, filter, foldl) and without explicit recursion.\n"
   ]
  },
  {
   "cell_type": "code",
   "execution_count": 1,
   "metadata": {},
   "outputs": [
    {
     "data": {
      "text/html": [
       "<code>'((h 1) (e 1) (l 3) (l 3) (o 2) (w 1) (o 2) (r 1) (l 3) (d 1))</code>"
      ],
      "text/plain": [
       "'((h 1) (e 1) (l 3) (l 3) (o 2) (w 1) (o 2) (r 1) (l 3) (d 1))"
      ]
     },
     "execution_count": 1,
     "metadata": {},
     "output_type": "execute_result"
    }
   ],
   "source": [
    "; (b) Annotate each symbol in a list with its occurrence in the list:\n",
    "\n",
    "(require racket)\n",
    "\n",
    "(define (annotate-occurrence symbs)\n",
    "    (define (count-char symb)  \n",
    "        (list symb (length (filter (lambda (s) (eq? s symb)) symbs)))\n",
    "    )\n",
    "    (map count-char symbs)\n",
    ")\n",
    "\n",
    "(annotate-occurrence '(h e l l o w o r l d))\n",
    "; ==> '((h 1) (e 1) (l 1) (l 2) (o 1) (w 1) (o 2) (r 1) (l 3) (d 1))"
   ]
  },
  {
   "cell_type": "code",
   "execution_count": 2,
   "metadata": {},
   "outputs": [
    {
     "data": {
      "text/html": [
       "<code>'l</code>"
      ],
      "text/plain": [
       "'l"
      ]
     },
     "execution_count": 2,
     "metadata": {},
     "output_type": "execute_result"
    }
   ],
   "source": [
    "; (a) Find the most frequent symbol in a list (return the first one when ambiguous):\n",
    "\n",
    "(require racket)\n",
    "\n",
    "(define (annotate-occurrence symbs)\n",
    "    (define (count-char symb)  \n",
    "        (list symb (length (filter (lambda (s) (eq? s symb)) symbs)))\n",
    "    )\n",
    "    (map count-char symbs)\n",
    ")\n",
    "\n",
    "(define (most-frequent symbs) \n",
    "    (first \n",
    "        (foldl\n",
    "            (lambda (annotate current)\n",
    "                (cond\n",
    "                    [(empty? current) annotate]\n",
    "                    [(> (second annotate) (second current)) annotate]\n",
    "                    [else current]\n",
    "                )\n",
    "            )\n",
    "        empty\n",
    "        (annotate-occurrence symbs)\n",
    "        )\n",
    "    )\n",
    ")\n",
    "\n",
    "(most-frequent '(h e l l o w o r l d))"
   ]
  },
  {
   "cell_type": "code",
   "execution_count": 3,
   "metadata": {},
   "outputs": [
    {
     "data": {
      "text/html": [
       "<code>102</code>"
      ],
      "text/plain": [
       "102"
      ]
     },
     "execution_count": 3,
     "metadata": {},
     "output_type": "execute_result"
    }
   ],
   "source": [
    ";(c) Convert a trinary1 string represented as a list of 0s, 1s, \n",
    "; and 2s into a (decimal) number:\n",
    "\n",
    "(require racket)\n",
    "\n",
    "\n",
    "(define (trinary-to-decimal bits)\n",
    "    (car \n",
    "        (foldr             \n",
    "            (lambda (bit pair) ; pair is (result cur_digit)\n",
    "                (cons \n",
    "                    (+ (car pair) (* bit (expt 3 (cdr pair)))) \n",
    "                    (+ 1 (cdr pair))\n",
    "                )\n",
    "            )\n",
    "            (cons 0 0)\n",
    "            bits\n",
    "        )\n",
    "    )\n",
    ")\n",
    "\n",
    "(trinary-to-decimal '(1 0 2 1 0)) ; ==> 102"
   ]
  },
  {
   "cell_type": "code",
   "execution_count": 4,
   "metadata": {},
   "outputs": [
    {
     "name": "stdout",
     "output_type": "stream",
     "text": [
      "0\n",
      "'b"
     ]
    }
   ],
   "source": [
    "; (d) Return the 3rd to last symbol in a list (you may assume it has enough symbols):\n",
    "\n",
    "(require racket)\n",
    "\n",
    "(define (third-to-last symbs) \n",
    "    (car \n",
    "        (foldr             \n",
    "            (lambda (symb pair) ; pair is (symb count) \n",
    "                (cond\n",
    "                    [(null? (cdr pair)) pair]\n",
    "                    [(eq? (cdr pair) 2) (cons symb null)]\n",
    "                    [else (cons null (+ (cdr pair) 1))]\n",
    "                )\n",
    "            )\n",
    "            (cons null 0)\n",
    "            symbs\n",
    "        )\n",
    "    )\n",
    ")\n",
    "\n",
    "(print (third-to-last '(1 1 1 0 1 1))) ; ==> 0\n",
    "(newline)\n",
    "(print (third-to-last '(s y m b o l))) ; ==> 'b"
   ]
  },
  {
   "cell_type": "code",
   "execution_count": 5,
   "metadata": {},
   "outputs": [
    {
     "name": "stdout",
     "output_type": "stream",
     "text": [
      "'(1 0 1 0 1)\n",
      "'(1 1 1 1)\n",
      "'(0)\n"
     ]
    }
   ],
   "source": [
    "; (e) Decrement a binary number. Decrementing zero should produce zero:\n",
    "(require racket)\n",
    "\n",
    "(define (decrement bits)\n",
    "    (define (decrement-full bits)\n",
    "        (foldr             \n",
    "            (lambda (bit answer-borrow)\n",
    "                (cond\n",
    "                    [(eq? 0 (cdr answer-borrow)) \n",
    "                        (cons \n",
    "                            (cons bit (car answer-borrow)) \n",
    "                            0\n",
    "                        )]\n",
    "                    [(eq? 1 bit) \n",
    "                        (cons  \n",
    "                            (cons 0 (car answer-borrow))\n",
    "                            0\n",
    "                        )]\n",
    "                    [(eq? 0 bit) \n",
    "                        (cons \n",
    "                            (cons 1 (car answer-borrow))\n",
    "                            1 \n",
    "                        )]\n",
    "                )\n",
    "            )\n",
    "            (cons (list) 1)\n",
    "            bits\n",
    "        )\n",
    "    )\n",
    "    (let* (\n",
    "            (result (decrement-full bits))\n",
    "            (answer (car result))\n",
    "            (borrow (cdr result))\n",
    "        )\n",
    "        (cond \n",
    "        [(eq? borrow 0) \n",
    "            (cond\n",
    "                [(eq? (car answer) 0) (cdr answer)]\n",
    "                [else answer]\n",
    "            )\n",
    "            \n",
    "            ]\n",
    "        [(eq? borrow 1) '(0)])\n",
    "    )\n",
    ")\n",
    "\n",
    "(print (decrement '(1 0 1 1 0))) ; ==> '(1 0 1 0 1)\n",
    "(newline)\n",
    "(print (decrement '(1 0 0 0 0))) ; ==> '(1 1 1 1)\n",
    "(newline)\n",
    "(print (decrement '(0))) ; ==> '(0)\n",
    "(newline)"
   ]
  },
  {
   "cell_type": "markdown",
   "metadata": {},
   "source": [
    "### 2"
   ]
  },
  {
   "cell_type": "code",
   "execution_count": 6,
   "metadata": {},
   "outputs": [
    {
     "name": "stdout",
     "output_type": "stream",
     "text": [
      "#t\n",
      "#t"
     ]
    }
   ],
   "source": [
    "; (a) Implement a predicate of-pensionable-age? which is true when a given employee is of\n",
    "; pensionable age (≥ 60 for female and ≥ 65 for male employees):\n",
    "(require racket)\n",
    "\n",
    "(define (of-pensionable-age? employee) \n",
    "    (cond\n",
    "        [(and (eq? (caddr employee) '#:male) (>= (cdddr employee) 65)) #t]\n",
    "        [(and (eq? (caddr employee) '#:female) (>= (cdddr employee) 60)) #t]\n",
    "        [else #f]\n",
    "    )\n",
    ")\n",
    "\n",
    "(print (of-pensionable-age? '(\"John\" \"Malkovich\" #:male . 79))) ; #t\n",
    "(newline)\n",
    "(print (of-pensionable-age? '(\"Anna\" \"Petrova\" #:female . 62))) ; #t\n"
   ]
  },
  {
   "cell_type": "code",
   "execution_count": 7,
   "metadata": {},
   "outputs": [
    {
     "data": {
      "text/html": [
       "<code>'((\"John\" . \"Malkovich\") (\"Anna\" . \"Petrova\"))</code>"
      ],
      "text/plain": [
       "'((\"John\" . \"Malkovich\") (\"Anna\" . \"Petrova\"))"
      ]
     },
     "execution_count": 7,
     "metadata": {},
     "output_type": "execute_result"
    }
   ],
   "source": [
    "(require racket)\n",
    "\n",
    "(define employees\n",
    "    '(\n",
    "        (\"John\" \"Malkovich\" #:male . 79)\n",
    "        (\"Ivan\" \"Petrov\" #:male . 18)\n",
    "        (\"Anna\" \"Petrova\" #:female . 62)\n",
    "        (\"Ivan\" \"Ivanov\" #:male . 43)\n",
    "        (\"Anna\" \"Karenina\" #:female . 20)\n",
    "    )\n",
    ")\n",
    "\n",
    "(define (of-pensionable-age? employee) \n",
    "    (cond\n",
    "        [(and (eq? (caddr employee) '#:male) (>= (cdddr employee) 65)) #t]\n",
    "        [(and (eq? (caddr employee) '#:female) (>= (cdddr employee) 60)) #t]\n",
    "        [else #f]\n",
    "    )\n",
    ")\n",
    "\n",
    "(define (employees-of-pensionable-age employees)\n",
    "    (map\n",
    "        (lambda (employee) (cons (car employee) (cadr employee)))\n",
    "        (filter of-pensionable-age? employees)\n",
    "    )\n",
    ")\n",
    "\n",
    "(employees-of-pensionable-age employees)"
   ]
  }
 ],
 "metadata": {
  "kernelspec": {
   "display_name": "Racket",
   "language": "racket",
   "name": "racket"
  },
  "language_info": {
   "codemirror_mode": "scheme",
   "file_extension": ".rkt",
   "mimetype": "text/x-racket",
   "name": "racket",
   "pygments_lexer": "racket",
   "version": "8.14"
  }
 },
 "nbformat": 4,
 "nbformat_minor": 4
}
